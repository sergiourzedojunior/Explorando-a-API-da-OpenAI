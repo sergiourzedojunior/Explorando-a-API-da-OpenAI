{
 "cells": [
  {
   "cell_type": "code",
   "execution_count": 1,
   "id": "5242944f",
   "metadata": {},
   "outputs": [],
   "source": [
    "import openai\n",
    "from dotenv import load_dotenv, find_dotenv\n",
    "\n",
    "_ = load_dotenv(find_dotenv())\n",
    "\n",
    "client = openai.Client()"
   ]
  },
  {
   "cell_type": "code",
   "execution_count": 3,
   "id": "d1ea0e64",
   "metadata": {},
   "outputs": [
    {
     "name": "stdout",
     "output_type": "stream",
     "text": [
      "Seja muito bem-vindo ou bem-vinda ao nosso curso completo de Python aqui da Zemove Academy. Eu e minha equipe ficamos muito felizes que vocês tenham escolhido iniciar no mundo da programação, especificamente com a linguagem Python, aqui com a gente. Pode ter certeza que a gente colocou muito carinho e muita dedicação para construir esse material. Além dos conhecimentos técnicos que a gente vai apresentar sobre a linguagem e programação em si, eu também coloquei grande parte da minha experiência e minha vivência para compartilhar com vocês ao longo desse treinamento. Para quem não me conhece ainda, meu nome é Rodrigo Soares Padeval e eu não sou programador de origem. Na verdade, eu me formei como engenheiro e eu utilizei a programação dentro da minha carreira no mercado financeiro como analista de dados. E essa é a grande mágica da programação. Vocês não precisam utilizá-la única e exclusivamente para desenvolver software. Na verdade, ela pode ser usada para o que vocês quiserem no dia a dia de vocês, muitas vezes como uma habilidade secundária. Ela é muito mais ampla e muito mais poderosa do que isso. Programação é, sem sombra de dúvidas, a habilidade do futuro. Tem gente que já compara e diz que a programação é o novo inglês. Ou seja, até anos atrás, era necessário que a gente tivesse inglês para poder entrar no mercado de trabalho. Hoje, com certeza, além do inglês, a gente tem que saber programar.\n"
     ]
    }
   ],
   "source": [
    "audio = open('arquivos/audio/audio_asimov.mp3', 'rb')\n",
    "transcricao = client.audio.transcriptions.create(\n",
    "    model='whisper-1',\n",
    "    file=audio\n",
    ")\n",
    "print(transcricao.text)"
   ]
  },
  {
   "cell_type": "code",
   "execution_count": 4,
   "id": "a0cffbd7",
   "metadata": {},
   "outputs": [
    {
     "name": "stdout",
     "output_type": "stream",
     "text": [
      "Seja muito bem-vindo ou bem-vinda ao nosso curso completo de Python, aqui da Asimov Academy. Eu e minha equipe ficamos muito felizes que vocês tenham escolhido iniciar no mundo da programação, especificamente com a linguagem Python, aqui com a gente. Pode ter certeza que a gente colocou muito carinho e muita dedicação para construir esse material. Além dos conhecimentos técnicos que a gente vai apresentar sobre a linguagem e programação em si, eu também coloquei grande parte da minha experiência e minha vivência para compartilhar com vocês ao longo desse treinamento. Para quem não me conhece ainda, meu nome é Rodrigo Soares Tadewald e eu não sou programador de origem. Na verdade, eu me formei como engenheiro e utilizei a programação dentro da minha carreira no mercado financeiro como analista de dados. E essa é a grande mágica da programação. Vocês não precisam utilizá-la única e exclusivamente para desenvolver software. Na verdade, ela pode ser usada para o que vocês quiserem no dia a dia de vocês, muitas vezes como uma habilidade secundária. Ela é muito mais ampla e muito mais poderosa do que isso. A programação é, sem sombra de dúvidas, a habilidade do futuro. Tem gente que já compara e diz que a programação é o novo inglês. Ou seja, até anos atrás, era necessário que a gente tivesse inglês para poder entrar no mercado de trabalho. Hoje, com certeza, além do inglês, a gente tem que saber programar.\n"
     ]
    }
   ],
   "source": [
    "audio = open('arquivos/audio/audio_asimov.mp3', 'rb')\n",
    "transcricao = client.audio.transcriptions.create(\n",
    "    model='whisper-1',\n",
    "    file=audio,\n",
    "    prompt='Essa é a transcrição de uma aula da Asimov Academy.\\\n",
    "          O professor se chama Rodrigo Soares Tadewald.'\n",
    ")\n",
    "print(transcricao.text)"
   ]
  },
  {
   "cell_type": "code",
   "execution_count": 7,
   "id": "46fcb840",
   "metadata": {},
   "outputs": [
    {
     "name": "stdout",
     "output_type": "stream",
     "text": [
      "1\n",
      "00:00:01,000 --> 00:00:05,000\n",
      "Seja muito bem-vindo ou bem-vinda ao nosso curso completo de Python,\n",
      "\n",
      "2\n",
      "00:00:05,000 --> 00:00:06,500\n",
      "aqui da Asimov Academy.\n",
      "\n",
      "3\n",
      "00:00:06,500 --> 00:00:09,500\n",
      "Eu e minha equipe ficamos muito felizes que vocês tenham escolhido\n",
      "\n",
      "4\n",
      "00:00:09,500 --> 00:00:11,000\n",
      "iniciar no mundo da programação,\n",
      "\n",
      "5\n",
      "00:00:11,000 --> 00:00:14,000\n",
      "especificamente com a linguagem Python, aqui com a gente.\n",
      "\n",
      "6\n",
      "00:00:14,000 --> 00:00:16,500\n",
      "Pode ter certeza que a gente colocou muito carinho\n",
      "\n",
      "7\n",
      "00:00:16,500 --> 00:00:19,000\n",
      "e muita dedicação para construir esse material.\n",
      "\n",
      "8\n",
      "00:00:19,000 --> 00:00:21,500\n",
      "Além dos conhecimentos técnicos que a gente vai apresentar\n",
      "\n",
      "9\n",
      "00:00:21,500 --> 00:00:24,000\n",
      "sobre a linguagem e programação em si,\n",
      "\n",
      "10\n",
      "00:00:24,000 --> 00:00:27,500\n",
      "eu também coloquei grande parte da minha experiência e minha vivência\n",
      "\n",
      "11\n",
      "00:00:27,500 --> 00:00:30,500\n",
      "para compartilhar com vocês ao longo desse treinamento.\n",
      "\n",
      "12\n",
      "00:00:30,500 --> 00:00:34,000\n",
      "Para quem não me conhece ainda, meu nome é Rodrigo Soares Tadewald\n",
      "\n",
      "13\n",
      "00:00:34,000 --> 00:00:35,500\n",
      "e eu não sou programador de origem.\n",
      "\n",
      "14\n",
      "00:00:35,500 --> 00:00:37,500\n",
      "Na verdade, eu me formei como engenheiro\n",
      "\n",
      "15\n",
      "00:00:37,500 --> 00:00:40,000\n",
      "e utilizei a programação dentro da minha carreira\n",
      "\n",
      "16\n",
      "00:00:40,000 --> 00:00:42,500\n",
      "no mercado financeiro como analista de dados.\n",
      "\n",
      "17\n",
      "00:00:42,500 --> 00:00:44,500\n",
      "E essa é a grande mágica da programação.\n",
      "\n",
      "18\n",
      "00:00:44,500 --> 00:00:47,500\n",
      "Vocês não precisam utilizá-la única e exclusivamente\n",
      "\n",
      "19\n",
      "00:00:47,500 --> 00:00:49,000\n",
      "para desenvolver software.\n",
      "\n",
      "20\n",
      "00:00:49,000 --> 00:00:51,000\n",
      "Na verdade, ela pode ser usada para o que vocês quiserem\n",
      "\n",
      "21\n",
      "00:00:51,000 --> 00:00:54,500\n",
      "no dia a dia de vocês, muitas vezes como uma habilidade secundária.\n",
      "\n",
      "22\n",
      "00:00:54,500 --> 00:00:57,000\n",
      "Ela é muito mais ampla e muito mais poderosa do que isso.\n",
      "\n",
      "23\n",
      "00:00:57,000 --> 00:01:00,000\n",
      "A programação é, sem sombra de dúvidas, a habilidade do futuro.\n",
      "\n",
      "24\n",
      "00:01:00,000 --> 00:01:03,000\n",
      "Tem gente que já compara e diz que a programação é o novo inglês.\n",
      "\n",
      "25\n",
      "00:01:03,000 --> 00:01:06,000\n",
      "Ou seja, até anos atrás, era necessário que a gente tivesse inglês\n",
      "\n",
      "26\n",
      "00:01:06,000 --> 00:01:07,500\n",
      "para poder entrar no mercado de trabalho.\n",
      "\n",
      "27\n",
      "00:01:07,500 --> 00:01:11,000\n",
      "Hoje, com certeza, além do inglês, a gente tem que saber programar.\n",
      "\n",
      "\n",
      "\n"
     ]
    }
   ],
   "source": [
    "audio = open('arquivos/audio/audio_asimov.mp3', 'rb')\n",
    "transcricao = client.audio.transcriptions.create(\n",
    "    model='whisper-1',\n",
    "    file=audio,\n",
    "    prompt='Essa é a transcrição de uma aula da Asimov Academy.\\\n",
    "          O professor se chama Rodrigo Soares Tadewald.',\n",
    "    response_format='srt'\n",
    ")\n",
    "print(transcricao)"
   ]
  },
  {
   "cell_type": "code",
   "execution_count": 8,
   "id": "90956008",
   "metadata": {},
   "outputs": [
    {
     "name": "stdout",
     "output_type": "stream",
     "text": [
      "Seja muito bem-vindo ou bem-vinda ao nosso curso completo de Python, aqui da Asimov Academy. Eu e minha equipe ficamos muito felizes que vocês tenham escolhido iniciar no mundo da programação, especificamente com a linguagem Python, aqui com a gente. Pode ter certeza que a gente colocou muito carinho e muita dedicação para construir esse material. Além dos conhecimentos técnicos que a gente vai apresentar sobre a linguagem e programação em si, eu também coloquei grande parte da minha experiência e minha vivência para compartilhar com vocês ao longo desse treinamento. Para quem não me conhece ainda, meu nome é Rodrigo Soares Tadewald e eu não sou programador de origem. Na verdade, eu me formei como engenheiro e utilizei a programação dentro da minha carreira no mercado financeiro como analista de dados. E essa é a grande mágica da programação. Vocês não precisam utilizá-la única e exclusivamente para desenvolver software. Na verdade, ela pode ser usada para o que vocês quiserem no dia a dia de vocês, muitas vezes como uma habilidade secundária. Ela é muito mais ampla e muito mais poderosa do que isso. A programação é, sem sombra de dúvidas, a habilidade do futuro. Tem gente que já compara e diz que a programação é o novo inglês. Ou seja, até anos atrás, era necessário que a gente tivesse inglês para poder entrar no mercado de trabalho. Hoje, com certeza, além do inglês, a gente tem que saber programar.\n",
      "\n"
     ]
    }
   ],
   "source": [
    "audio = open('arquivos/audio/audio_asimov.mp3', 'rb')\n",
    "transcricao = client.audio.transcriptions.create(\n",
    "    model='whisper-1',\n",
    "    file=audio,\n",
    "    prompt='Essa é a transcrição de uma aula da Asimov Academy.\\\n",
    "          O professor se chama Rodrigo Soares Tadewald.',\n",
    "    response_format='text',\n",
    "    language='pt',\n",
    ")\n",
    "print(transcricao)"
   ]
  },
  {
   "cell_type": "code",
   "execution_count": null,
   "id": "023f51d7",
   "metadata": {},
   "outputs": [],
   "source": []
  }
 ],
 "metadata": {
  "kernelspec": {
   "display_name": ".venv",
   "language": "python",
   "name": "python3"
  },
  "language_info": {
   "codemirror_mode": {
    "name": "ipython",
    "version": 3
   },
   "file_extension": ".py",
   "mimetype": "text/x-python",
   "name": "python",
   "nbconvert_exporter": "python",
   "pygments_lexer": "ipython3",
   "version": "3.11.4"
  }
 },
 "nbformat": 4,
 "nbformat_minor": 5
}
