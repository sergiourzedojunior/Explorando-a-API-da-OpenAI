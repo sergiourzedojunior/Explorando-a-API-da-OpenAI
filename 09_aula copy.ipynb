{
 "cells": [
  {
   "cell_type": "code",
   "execution_count": 47,
   "id": "0b0a7bea",
   "metadata": {},
   "outputs": [],
   "source": [
    "import json\n",
    "import yfinance as yf\n",
    "\n",
    "import openai\n",
    "from dotenv import load_dotenv, find_dotenv\n",
    "\n",
    "_ = load_dotenv(find_dotenv())\n",
    "\n",
    "client = openai.Client()\n",
    "\n",
    "\n",
    "def retorna_cotacao_acao_historica(\n",
    "        ticker,\n",
    "        periodo='1mo'\n",
    "):\n",
    "    ticker_obj = yf.Ticker(f'{ticker}.SA')\n",
    "    hist = ticker_obj.history(period=periodo)['Close']\n",
    "    hist.index = hist.index.strftime('%Y-%m-%d')\n",
    "    hist = round(hist, 2)\n",
    "    if len(hist) > 30:\n",
    "        slice_size = int(len(hist) / 30)\n",
    "        hist = hist.iloc[::-slice_size][::-1]\n",
    "    return hist.to_json()\n",
    "\n",
    "\n",
    "tools = [\n",
    "    {\n",
    "        'type': 'function',\n",
    "        'function': {\n",
    "            'name': 'retorna_cotacao_acao_historica',\n",
    "            'description': 'Retorna a cotação diária histórica para uma ação da bovespa',\n",
    "            'parameters': {\n",
    "                'type': 'object',\n",
    "                'properties': {\n",
    "                    'ticker': {\n",
    "                        'type': 'string',\n",
    "                        'description': 'O ticker da ação. Exemplo: \"ABEV3\" para ambev, \"PETR4\" para petrobras, etc'\n",
    "                    },\n",
    "                    'periodo': {\n",
    "                        'type': 'string',\n",
    "                        'description': 'O período que será retornado de dados históriocos \\\n",
    "                                        sendo \"1mo\" equivalente a um mês de dados, \"1d\" a \\\n",
    "                                        1 dia e \"1y\" a 1 ano',\n",
    "                        'enum': [\"1d\",\"5d\",\"1mo\",\"6mo\",\"1y\",\"5y\",\"10y\",\"ytd\",\"max\"]\n",
    "                    }\n",
    "                }\n",
    "            }\n",
    "        }\n",
    "    }\n",
    "\n",
    "]\n",
    "\n",
    "funcoes_disponiveis = {'retorna_cotacao_acao_historica': retorna_cotacao_acao_historica}\n",
    "\n",
    "\n",
    "mensagens = [{'role': 'user', 'content': 'Qual é a cotação da ambev agora'}]\n",
    "\n",
    "resposta = client.chat.completions.create(\n",
    "    messages=mensagens,\n",
    "    model='gpt-3.5-turbo-0125',\n",
    "    tools=tools,\n",
    "    tool_choice='auto'\n",
    ")\n"
   ]
  },
  {
   "cell_type": "code",
   "execution_count": 48,
   "id": "3e66e0c0",
   "metadata": {},
   "outputs": [],
   "source": [
    "tool_calls = resposta.choices[0].message.tool_calls\n",
    "\n",
    "if tool_calls:\n",
    "    mensagens.append(resposta.choices[0].message)\n",
    "    for tool_call in tool_calls:\n",
    "        func_name = tool_call.function.name\n",
    "        function_to_call = funcoes_disponiveis[func_name]\n",
    "        func_args = json.loads(tool_call.function.arguments)\n",
    "        func_return = function_to_call(**func_args)\n",
    "        mensagens.append({\n",
    "            'tool_call_id': tool_call.id,\n",
    "            'role': 'tool',\n",
    "            'name': func_name,\n",
    "            'content': func_return\n",
    "        })\n",
    "    segunda_resposta = client.chat.completions.create(\n",
    "        messages=mensagens,\n",
    "        model='gpt-3.5-turbo-0125',\n",
    "    )\n",
    "    mensagens.append(segunda_resposta.choices[0].message)\n"
   ]
  },
  {
   "cell_type": "code",
   "execution_count": 52,
   "id": "fcdb97f9",
   "metadata": {},
   "outputs": [
    {
     "data": {
      "text/plain": [
       "'A cotação da ação da Ambev (ABEV3) agora é de R$ 12,54.'"
      ]
     },
     "execution_count": 52,
     "metadata": {},
     "output_type": "execute_result"
    }
   ],
   "source": [
    "segunda_resposta.choices[0].message.content"
   ]
  },
  {
   "cell_type": "code",
   "execution_count": 45,
   "id": "db12f8d4",
   "metadata": {},
   "outputs": [
    {
     "data": {
      "text/plain": [
       "'{\"2024-03-20\":12.54}'"
      ]
     },
     "execution_count": 45,
     "metadata": {},
     "output_type": "execute_result"
    }
   ],
   "source": [
    "func_name = tool_call.function.name\n",
    "function_to_call = funcoes_disponiveis[func_name]\n",
    "func_args = json.loads(tool_call.function.arguments)\n",
    "func_return = function_to_call(**func_args)\n",
    "\n",
    "\n",
    "func_return"
   ]
  },
  {
   "cell_type": "code",
   "execution_count": 46,
   "id": "441d710a",
   "metadata": {},
   "outputs": [
    {
     "data": {
      "text/plain": [
       "{'ticker': 'ABEV3', 'periodo': '1d'}"
      ]
     },
     "execution_count": 46,
     "metadata": {},
     "output_type": "execute_result"
    }
   ],
   "source": [
    "func_args"
   ]
  },
  {
   "cell_type": "code",
   "execution_count": 40,
   "id": "27dfaf3c",
   "metadata": {},
   "outputs": [
    {
     "data": {
      "text/plain": [
       "ChatCompletionMessageToolCall(id='call_VDtRP7mzpaqlvklVZYkQc5jS', function=Function(arguments='{\"ticker\":\"ABEV3\",\"periodo\":\"1d\"}', name='retorna_cotacao_acao_historica'), type='function')"
      ]
     },
     "execution_count": 40,
     "metadata": {},
     "output_type": "execute_result"
    }
   ],
   "source": [
    "tool_call"
   ]
  }
 ],
 "metadata": {
  "kernelspec": {
   "display_name": ".venv",
   "language": "python",
   "name": "python3"
  },
  "language_info": {
   "codemirror_mode": {
    "name": "ipython",
    "version": 3
   },
   "file_extension": ".py",
   "mimetype": "text/x-python",
   "name": "python",
   "nbconvert_exporter": "python",
   "pygments_lexer": "ipython3",
   "version": "3.11.4"
  }
 },
 "nbformat": 4,
 "nbformat_minor": 5
}
