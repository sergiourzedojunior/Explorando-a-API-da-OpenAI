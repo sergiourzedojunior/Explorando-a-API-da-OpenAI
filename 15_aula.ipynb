{
 "cells": [
  {
   "cell_type": "code",
   "execution_count": 1,
   "id": "0b0a7bea",
   "metadata": {},
   "outputs": [],
   "source": [
    "import openai\n",
    "from dotenv import load_dotenv, find_dotenv\n",
    "\n",
    "_ = load_dotenv(find_dotenv())\n",
    "\n",
    "client = openai.Client()"
   ]
  },
  {
   "attachments": {},
   "cell_type": "markdown",
   "id": "d748127d",
   "metadata": {},
   "source": [
    "## Cria o assistant"
   ]
  },
  {
   "cell_type": "code",
   "execution_count": 2,
   "id": "b8385a71",
   "metadata": {},
   "outputs": [],
   "source": [
    "file = client.files.create(\n",
    "    file=open('arquivos/divulgacao_resultado_ambev_4T23.pdf', 'rb'),\n",
    "    purpose='assistants'\n",
    ")"
   ]
  },
  {
   "cell_type": "code",
   "execution_count": 3,
   "id": "9c1f3b70",
   "metadata": {},
   "outputs": [],
   "source": [
    "assistant = client.beta.assistants.create(\n",
    "    name=\"Analista de Demonstrações Financeiras\",\n",
    "    instructions=\"Você é um analista de demonstralções \\\n",
    "        financeiras da Ambev. Você tem acesso a demontração \\\n",
    "        de resultado do 4º trimestre de 2023. Baseado apenas \\\n",
    "        no documento que você tem acesso, responda \\\n",
    "        as perguntas do usuário.\",\n",
    "    tools=[{'type': 'retrieval'}],\n",
    "    file_ids=[file.id],\n",
    "    model='gpt-4-turbo-preview'\n",
    ")"
   ]
  },
  {
   "attachments": {},
   "cell_type": "markdown",
   "id": "ef03a019",
   "metadata": {},
   "source": [
    "## Cria uma thread"
   ]
  },
  {
   "cell_type": "code",
   "execution_count": 4,
   "id": "6e564600",
   "metadata": {},
   "outputs": [],
   "source": [
    "thread = client.beta.threads.create()"
   ]
  },
  {
   "attachments": {},
   "cell_type": "markdown",
   "id": "2dd2acc5",
   "metadata": {},
   "source": [
    "## Adiciona mensagem a thread criada"
   ]
  },
  {
   "cell_type": "code",
   "execution_count": 5,
   "id": "4ba988f8",
   "metadata": {},
   "outputs": [],
   "source": [
    "pergunta = 'Qual o volume de cerja vendido no Brasil segundo o documento?'\n",
    "\n",
    "messages = client.beta.threads.messages.create(\n",
    "    thread_id=thread.id,\n",
    "    role='user',\n",
    "    content=pergunta\n",
    ")"
   ]
  },
  {
   "attachments": {},
   "cell_type": "markdown",
   "id": "db10a63b",
   "metadata": {},
   "source": [
    "## Roda a thread no assistant"
   ]
  },
  {
   "cell_type": "code",
   "execution_count": 6,
   "id": "ab3e750e",
   "metadata": {},
   "outputs": [],
   "source": [
    "run = client.beta.threads.runs.create(\n",
    "    thread_id=thread.id,\n",
    "    assistant_id=assistant.id,\n",
    "    instructions='O nome do usuário é Adriano.'\n",
    ")"
   ]
  },
  {
   "attachments": {},
   "cell_type": "markdown",
   "id": "7b71e5ba",
   "metadata": {},
   "source": [
    "## Aguarda a thread rodar"
   ]
  },
  {
   "cell_type": "code",
   "execution_count": 7,
   "id": "cc04b39a",
   "metadata": {},
   "outputs": [
    {
     "name": "stdout",
     "output_type": "stream",
     "text": [
      "completed\n"
     ]
    }
   ],
   "source": [
    "import time\n",
    "\n",
    "while run.status in ['queued', 'in_progress', 'cancelling']:\n",
    "    time.sleep(1)\n",
    "    run = client.beta.threads.runs.retrieve(\n",
    "        thread_id=thread.id,\n",
    "        run_id=run.id\n",
    "    )\n",
    "\n",
    "print(run.status)"
   ]
  },
  {
   "attachments": {},
   "cell_type": "markdown",
   "id": "f2b0bf80",
   "metadata": {},
   "source": [
    "## Verifica a resposta"
   ]
  },
  {
   "cell_type": "code",
   "execution_count": 8,
   "id": "6fa5456c",
   "metadata": {},
   "outputs": [
    {
     "name": "stdout",
     "output_type": "stream",
     "text": [
      "SyncCursorPage[Message](data=[Message(id='msg_MuTgNJc9h0BrmMm39FwLpMP8', assistant_id='asst_cPJCTU3tvtgxOwnvY8vJWa0H', completed_at=None, content=[TextContentBlock(text=Text(annotations=[FileCitationAnnotation(end_index=244, file_citation=FileCitation(file_id='file-e2q6GP6IsKOSR1wfT5WkBS7K', quote=\"Volume ('000 hl) \\nReceita líquida\\nLucro bruto\\n% Margem bruta\\nEBITDA ajustado\\n% Margem EBITDA ajustado \\n\\n\\n4T22\\n52.1693\\n22.6930\\n11.7078\\n516% \\n7.1093\\n313% \\n\\n\\n4T23\\n52.0916\\n19.9892\\n10.6880\\n535% \\n7.1515\\n358% \\n\\n\\n%\\nReportado\\n-01% \\n-119% \\n-87% \\n190 pb\\n06% \\n450 pb \\n\\n\\n%\\nOrgânico\\n-01% \\n295% \\n364% \\n280 pb\\n490% \\n470 pb \\n\\n\\n12M22\\n185.7497\\n79.7088\\n39.2868\\n493% \\n23.7709\\n298% \\n\\n\\n12M23\\n183.6590\\n79.7369\\n40.4453\\n507% \\n25.4554\\n319% \\n\\n\\n% Reportado\\n-11% \\n00% \\n29% \\n140 pb\\n71% \\n210 pb \\n\\n\\n%\\nOrgânico\\n-11% \\n241% \\n303% \\n240 pb\\n426% \\n430 pb\"), start_index=234, text='【7†source】', type='file_citation')], value='Segundo o documento, o volume de cerveja vendido no Brasil pela Ambev no ano de 2023 foi de 183.659 mil hectolitros, o que representa uma redução de 11% em relação ao ano anterior, 2022, quando o volume foi de 185.7497 mil hectolitros【7†source】.'), type='text')], created_at=1711650860, file_ids=[], incomplete_at=None, incomplete_details=None, metadata={}, object='thread.message', role='assistant', run_id='run_t2LOLHMWuQDavWKXAH9ypIcZ', status=None, thread_id='thread_86iYg2n1mnq90vt5rdZz6Lcj'), Message(id='msg_piLFmFX1bqcHploUl5uezPmA', assistant_id=None, completed_at=None, content=[TextContentBlock(text=Text(annotations=[], value='Qual o volume de cerja vendido no Brasil segundo o documento?'), type='text')], created_at=1711650855, file_ids=[], incomplete_at=None, incomplete_details=None, metadata={}, object='thread.message', role='user', run_id=None, status=None, thread_id='thread_86iYg2n1mnq90vt5rdZz6Lcj')], object='list', first_id='msg_MuTgNJc9h0BrmMm39FwLpMP8', last_id='msg_piLFmFX1bqcHploUl5uezPmA', has_more=False)\n"
     ]
    }
   ],
   "source": [
    "if run.status == 'completed':\n",
    "    messages = client.beta.threads.messages.list(\n",
    "        thread_id=thread.id\n",
    "    )\n",
    "    print(messages)\n",
    "else:\n",
    "    print('Erro', run.status)"
   ]
  },
  {
   "cell_type": "code",
   "execution_count": 9,
   "id": "ad68b412",
   "metadata": {},
   "outputs": [
    {
     "name": "stdout",
     "output_type": "stream",
     "text": [
      "Segundo o documento, o volume de cerveja vendido no Brasil pela Ambev no ano de 2023 foi de 183.659 mil hectolitros, o que representa uma redução de 11% em relação ao ano anterior, 2022, quando o volume foi de 185.7497 mil hectolitros【7†source】.\n"
     ]
    }
   ],
   "source": [
    "print(messages.data[0].content[0].text.value)"
   ]
  },
  {
   "attachments": {},
   "cell_type": "markdown",
   "id": "27e24b15",
   "metadata": {},
   "source": [
    "## Analisando os passos do modelo"
   ]
  },
  {
   "cell_type": "code",
   "execution_count": 10,
   "id": "b5596864",
   "metadata": {},
   "outputs": [],
   "source": [
    "run_steps = client.beta.threads.runs.steps.list(\n",
    "  thread_id=thread.id,\n",
    "  run_id=run.id\n",
    ")"
   ]
  },
  {
   "cell_type": "code",
   "execution_count": 14,
   "id": "7b8a5990",
   "metadata": {},
   "outputs": [
    {
     "name": "stdout",
     "output_type": "stream",
     "text": [
      "======= Step > tool_calls\n",
      "RetrievalToolCall(id='call_nMmvggvJM4iVGSEx8UFN3l05', retrieval={}, type='retrieval')\n",
      "======= Step > message_creation\n",
      "Segundo o documento, o volume de cerveja vendido no Brasil pela Ambev no ano de 2023 foi de 183.659 mil hectolitros, o que representa uma redução de 11% em relação ao ano anterior, 2022, quando o volume foi de 185.7497 mil hectolitros【7†source】.\n"
     ]
    }
   ],
   "source": [
    "for step in run_steps.data[::-1]:\n",
    "    print('======= Step >', step.step_details.type)\n",
    "    if step.step_details.type == 'tool_calls':\n",
    "        for tool_call in step.step_details.tool_calls:\n",
    "            if tool_call.type == 'retrieval':\n",
    "                print(tool_call)\n",
    "            else:\n",
    "                print('```')\n",
    "                print(tool_call.code_interpreter.input)\n",
    "                print('```')\n",
    "                if tool_call.code_interpreter.outputs[0].type == 'logs':\n",
    "                    print('Result')\n",
    "                    print(tool_call.code_interpreter.outputs[0].logs)\n",
    "    if step.step_details.type == 'message_creation':\n",
    "        message = client.beta.threads.messages.retrieve(\n",
    "            thread_id=thread.id,\n",
    "            message_id=step.step_details.message_creation.message_id\n",
    "        )\n",
    "        if message.content[0].type == 'text':\n",
    "            message = client.beta.threads.messages.retrieve(\n",
    "                thread_id=thread.id,\n",
    "                message_id=step.step_details.message_creation.message_id\n",
    "            )\n",
    "            print(message.content[0].text.value)\n",
    "\n",
    "        if message.content[0].type == 'image_file':\n",
    "            message = client.beta.threads.messages.retrieve(\n",
    "                thread_id=thread.id,\n",
    "                message_id=step.step_details.message_creation.message_id\n",
    "            )\n",
    "            file_id = message.content[0].image_file.file_id\n",
    "            image_data = client.files.content(file_id)\n",
    "\n",
    "            with open(f'arquivos/{file_id}.png', 'wb') as file:\n",
    "                file.write(image_data.read())\n",
    "\n",
    "            import matplotlib.pyplot as plt\n",
    "            import matplotlib.image as mpimg\n",
    "\n",
    "            img = mpimg.imread(f'arquivos/{file_id}.png')\n",
    "            fig, ax = plt.subplots()\n",
    "            ax.set_axis_off()\n",
    "            ax.imshow(img)\n",
    "            plt.show()\n",
    "        "
   ]
  },
  {
   "cell_type": "code",
   "execution_count": 12,
   "id": "5242944f",
   "metadata": {},
   "outputs": [
    {
     "data": {
      "text/plain": [
       "ToolCallsStepDetails(tool_calls=[RetrievalToolCall(id='call_nMmvggvJM4iVGSEx8UFN3l05', retrieval={}, type='retrieval')], type='tool_calls')"
      ]
     },
     "execution_count": 12,
     "metadata": {},
     "output_type": "execute_result"
    }
   ],
   "source": [
    "step.step_details"
   ]
  },
  {
   "cell_type": "code",
   "execution_count": 13,
   "id": "aab3ffa0",
   "metadata": {},
   "outputs": [
    {
     "data": {
      "text/plain": [
       "RetrievalToolCall(id='call_nMmvggvJM4iVGSEx8UFN3l05', retrieval={}, type='retrieval')"
      ]
     },
     "execution_count": 13,
     "metadata": {},
     "output_type": "execute_result"
    }
   ],
   "source": [
    "tool_call"
   ]
  },
  {
   "cell_type": "code",
   "execution_count": null,
   "id": "07641736",
   "metadata": {},
   "outputs": [],
   "source": []
  }
 ],
 "metadata": {
  "kernelspec": {
   "display_name": ".venv",
   "language": "python",
   "name": "python3"
  },
  "language_info": {
   "codemirror_mode": {
    "name": "ipython",
    "version": 3
   },
   "file_extension": ".py",
   "mimetype": "text/x-python",
   "name": "python",
   "nbconvert_exporter": "python",
   "pygments_lexer": "ipython3",
   "version": "3.11.3"
  }
 },
 "nbformat": 4,
 "nbformat_minor": 5
}
