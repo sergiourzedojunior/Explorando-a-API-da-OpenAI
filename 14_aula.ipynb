{
 "cells": [
  {
   "cell_type": "code",
   "execution_count": 1,
   "id": "63d7d83b",
   "metadata": {},
   "outputs": [
    {
     "data": {
      "text/html": [
       "<div>\n",
       "<style scoped>\n",
       "    .dataframe tbody tr th:only-of-type {\n",
       "        vertical-align: middle;\n",
       "    }\n",
       "\n",
       "    .dataframe tbody tr th {\n",
       "        vertical-align: top;\n",
       "    }\n",
       "\n",
       "    .dataframe thead th {\n",
       "        text-align: right;\n",
       "    }\n",
       "</style>\n",
       "<table border=\"1\" class=\"dataframe\">\n",
       "  <thead>\n",
       "    <tr style=\"text-align: right;\">\n",
       "      <th></th>\n",
       "      <th>Invoice ID</th>\n",
       "      <th>Branch</th>\n",
       "      <th>City</th>\n",
       "      <th>Customer type</th>\n",
       "      <th>Gender</th>\n",
       "      <th>Product line</th>\n",
       "      <th>Unit price</th>\n",
       "      <th>Quantity</th>\n",
       "      <th>Tax 5%</th>\n",
       "      <th>Total</th>\n",
       "      <th>Date</th>\n",
       "      <th>Time</th>\n",
       "      <th>Payment</th>\n",
       "      <th>cogs</th>\n",
       "      <th>gross margin percentage</th>\n",
       "      <th>gross income</th>\n",
       "      <th>Rating</th>\n",
       "    </tr>\n",
       "  </thead>\n",
       "  <tbody>\n",
       "    <tr>\n",
       "      <th>0</th>\n",
       "      <td>750-67-8428</td>\n",
       "      <td>A</td>\n",
       "      <td>Yangon</td>\n",
       "      <td>Member</td>\n",
       "      <td>Female</td>\n",
       "      <td>Health and beauty</td>\n",
       "      <td>74.69</td>\n",
       "      <td>7</td>\n",
       "      <td>26.1415</td>\n",
       "      <td>548.9715</td>\n",
       "      <td>1/5/2019</td>\n",
       "      <td>13:08</td>\n",
       "      <td>Ewallet</td>\n",
       "      <td>522.83</td>\n",
       "      <td>4.761905</td>\n",
       "      <td>26.1415</td>\n",
       "      <td>9.1</td>\n",
       "    </tr>\n",
       "    <tr>\n",
       "      <th>1</th>\n",
       "      <td>226-31-3081</td>\n",
       "      <td>C</td>\n",
       "      <td>Naypyitaw</td>\n",
       "      <td>Normal</td>\n",
       "      <td>Female</td>\n",
       "      <td>Electronic accessories</td>\n",
       "      <td>15.28</td>\n",
       "      <td>5</td>\n",
       "      <td>3.8200</td>\n",
       "      <td>80.2200</td>\n",
       "      <td>3/8/2019</td>\n",
       "      <td>10:29</td>\n",
       "      <td>Cash</td>\n",
       "      <td>76.40</td>\n",
       "      <td>4.761905</td>\n",
       "      <td>3.8200</td>\n",
       "      <td>9.6</td>\n",
       "    </tr>\n",
       "    <tr>\n",
       "      <th>2</th>\n",
       "      <td>631-41-3108</td>\n",
       "      <td>A</td>\n",
       "      <td>Yangon</td>\n",
       "      <td>Normal</td>\n",
       "      <td>Male</td>\n",
       "      <td>Home and lifestyle</td>\n",
       "      <td>46.33</td>\n",
       "      <td>7</td>\n",
       "      <td>16.2155</td>\n",
       "      <td>340.5255</td>\n",
       "      <td>3/3/2019</td>\n",
       "      <td>13:23</td>\n",
       "      <td>Credit card</td>\n",
       "      <td>324.31</td>\n",
       "      <td>4.761905</td>\n",
       "      <td>16.2155</td>\n",
       "      <td>7.4</td>\n",
       "    </tr>\n",
       "    <tr>\n",
       "      <th>3</th>\n",
       "      <td>123-19-1176</td>\n",
       "      <td>A</td>\n",
       "      <td>Yangon</td>\n",
       "      <td>Member</td>\n",
       "      <td>Male</td>\n",
       "      <td>Health and beauty</td>\n",
       "      <td>58.22</td>\n",
       "      <td>8</td>\n",
       "      <td>23.2880</td>\n",
       "      <td>489.0480</td>\n",
       "      <td>1/27/2019</td>\n",
       "      <td>20:33</td>\n",
       "      <td>Ewallet</td>\n",
       "      <td>465.76</td>\n",
       "      <td>4.761905</td>\n",
       "      <td>23.2880</td>\n",
       "      <td>8.4</td>\n",
       "    </tr>\n",
       "    <tr>\n",
       "      <th>4</th>\n",
       "      <td>373-73-7910</td>\n",
       "      <td>A</td>\n",
       "      <td>Yangon</td>\n",
       "      <td>Normal</td>\n",
       "      <td>Male</td>\n",
       "      <td>Sports and travel</td>\n",
       "      <td>86.31</td>\n",
       "      <td>7</td>\n",
       "      <td>30.2085</td>\n",
       "      <td>634.3785</td>\n",
       "      <td>2/8/2019</td>\n",
       "      <td>10:37</td>\n",
       "      <td>Ewallet</td>\n",
       "      <td>604.17</td>\n",
       "      <td>4.761905</td>\n",
       "      <td>30.2085</td>\n",
       "      <td>5.3</td>\n",
       "    </tr>\n",
       "  </tbody>\n",
       "</table>\n",
       "</div>"
      ],
      "text/plain": [
       "    Invoice ID Branch       City Customer type  Gender  \\\n",
       "0  750-67-8428      A     Yangon        Member  Female   \n",
       "1  226-31-3081      C  Naypyitaw        Normal  Female   \n",
       "2  631-41-3108      A     Yangon        Normal    Male   \n",
       "3  123-19-1176      A     Yangon        Member    Male   \n",
       "4  373-73-7910      A     Yangon        Normal    Male   \n",
       "\n",
       "             Product line  Unit price  Quantity   Tax 5%     Total       Date  \\\n",
       "0       Health and beauty       74.69         7  26.1415  548.9715   1/5/2019   \n",
       "1  Electronic accessories       15.28         5   3.8200   80.2200   3/8/2019   \n",
       "2      Home and lifestyle       46.33         7  16.2155  340.5255   3/3/2019   \n",
       "3       Health and beauty       58.22         8  23.2880  489.0480  1/27/2019   \n",
       "4       Sports and travel       86.31         7  30.2085  634.3785   2/8/2019   \n",
       "\n",
       "    Time      Payment    cogs  gross margin percentage  gross income  Rating  \n",
       "0  13:08      Ewallet  522.83                 4.761905       26.1415     9.1  \n",
       "1  10:29         Cash   76.40                 4.761905        3.8200     9.6  \n",
       "2  13:23  Credit card  324.31                 4.761905       16.2155     7.4  \n",
       "3  20:33      Ewallet  465.76                 4.761905       23.2880     8.4  \n",
       "4  10:37      Ewallet  604.17                 4.761905       30.2085     5.3  "
      ]
     },
     "execution_count": 1,
     "metadata": {},
     "output_type": "execute_result"
    }
   ],
   "source": [
    "import pandas as pd\n",
    "\n",
    "dataset = pd.read_csv('arquivos/supermarket_sales.csv')\n",
    "dataset.head()"
   ]
  },
  {
   "cell_type": "code",
   "execution_count": 2,
   "id": "902143c8",
   "metadata": {},
   "outputs": [
    {
     "data": {
      "text/plain": [
       "np.float64(6.9727)"
      ]
     },
     "execution_count": 2,
     "metadata": {},
     "output_type": "execute_result"
    }
   ],
   "source": [
    "dataset['Rating'].mean()"
   ]
  },
  {
   "cell_type": "code",
   "execution_count": 3,
   "id": "b69eea24",
   "metadata": {},
   "outputs": [
    {
     "data": {
      "text/plain": [
       "np.float64(6.9727)"
      ]
     },
     "execution_count": 3,
     "metadata": {},
     "output_type": "execute_result"
    }
   ],
   "source": [
    "dataset['Rating'].mean()"
   ]
  },
  {
   "cell_type": "code",
   "execution_count": 4,
   "id": "0b0a7bea",
   "metadata": {},
   "outputs": [],
   "source": [
    "import openai\n",
    "from dotenv import load_dotenv, find_dotenv\n",
    "\n",
    "_ = load_dotenv(find_dotenv())\n",
    "\n",
    "client = openai.Client()"
   ]
  },
  {
   "attachments": {},
   "cell_type": "markdown",
   "id": "d748127d",
   "metadata": {},
   "source": [
    "## Cria o assistant"
   ]
  },
  {
   "cell_type": "code",
   "execution_count": 5,
   "id": "b8385a71",
   "metadata": {},
   "outputs": [],
   "source": [
    "file = client.files.create(\n",
    "    file=open('arquivos/supermarket_sales.csv', 'rb'),\n",
    "    purpose='assistants'\n",
    ")"
   ]
  },
  {
   "cell_type": "code",
   "execution_count": 6,
   "id": "e072cb30",
   "metadata": {},
   "outputs": [
    {
     "data": {
      "text/plain": [
       "'file-zyHspS1SP3J9GT8FLYBrIayV'"
      ]
     },
     "execution_count": 6,
     "metadata": {},
     "output_type": "execute_result"
    }
   ],
   "source": [
    "file.id"
   ]
  },
  {
   "cell_type": "code",
   "execution_count": 7,
   "id": "a0a292a3",
   "metadata": {},
   "outputs": [],
   "source": [
    "# import pandas as pd\n",
    "\n",
    "# dataset = pd.read_csv('arquivos/supermarket_sales.csv')\n",
    "# dataset.head()\n"
   ]
  },
  {
   "cell_type": "code",
   "execution_count": 8,
   "id": "c8cc75ca",
   "metadata": {},
   "outputs": [],
   "source": [
    "assistant = client.beta.assistants.create(\n",
    "    name=\"Analista Fianceiro\",\n",
    "    instructions=\"Você é um analista financeiro de um supermercado. Você utiliza os dados .csv relativo às vendas \\\n",
    "        do supermercado para realizar as suas análises\",\n",
    "    tools=[{'type': 'code_interpreter'}],\n",
    "    tool_resources={'code_interpreter': {'file_ids': [file.id]}},\n",
    "    model='gpt-4o'\n",
    ")\n",
    "\n",
    "\n",
    "# ```python\n",
    "# assistant = client.beta.assistants.create(\n",
    "# ```\n",
    "# - **Propósito:** Esta linha inicia a criação de um novo assistente usando o método `client.beta.assistants.create`.\n",
    "# - **Explicação:** O objeto `assistant` armazenará a instância do assistente que você está criando. Este é tipicamente o primeiro passo para configurar um assistente personalizado usando uma API.\n",
    "\n",
    "# ```python\n",
    "#     name=\"Analista Fianceiro\",\n",
    "# ```\n",
    "# - **Propósito:** Especifica o nome do assistente.\n",
    "# - **Explicação:** Aqui, você está nomeando o assistente como \"Analista Financeiro\". Este nome é útil para identificar o assistente dentro do seu projeto ou aplicação.\n",
    "\n",
    "# ```python\n",
    "#     instructions=\"Você é um analista financeiro de um supermercado. Você utiliza os dados .csv relativo às vendas \\\n",
    "#         do supermercado para realizar as suas análises\",\n",
    "# ```\n",
    "# - **Propósito:** Fornece instruções para o assistente.\n",
    "# - **Explicação:** Esta string dá contexto e orientação ao assistente sobre como ele deve se comportar. Você está instruindo o assistente a agir como um analista financeiro de um supermercado e a utilizar dados em formato CSV relacionados às vendas para realizar suas análises. A barra invertida (`\\`) no final da linha permite que a string continue na próxima linha sem quebrar o código.\n",
    "\n",
    "# ```python\n",
    "#     tools=[{'type': 'code_interpreter'}],\n",
    "# ```\n",
    "# - **Propósito:** Especifica as ferramentas que o assistente deve ter acesso.\n",
    "# - **Explicação:** Aqui, você está dando ao assistente acesso a uma ferramenta chamada `code_interpreter`. Esta é uma ferramenta especializada que permite ao assistente executar código, tipicamente para realizar análises de dados, cálculos ou outras tarefas programáveis.\n",
    "\n",
    "# ```python\n",
    "#     tool_resources={'code_interpreter': {'file_ids': [file.id]}},\n",
    "# ```\n",
    "# - **Propósito:** Vincula recursos (como arquivos) às ferramentas especificadas.\n",
    "# - **Explicação:** Esta linha está associando um arquivo à ferramenta `code_interpreter`. O parâmetro `file_ids` contém uma lista de IDs de arquivos que o interpretador de código pode usar. O `file.id` provavelmente é o ID do arquivo CSV que você carregou ou criou anteriormente. Isso permite que o interpretador de código acesse os dados nesse arquivo durante as operações do assistente.\n",
    "\n",
    "# ```python\n",
    "#     model='gpt-4o'\n",
    "# ```\n",
    "# - **Propósito:** Especifica o modelo que o assistente usará.\n",
    "# - **Explicação:** O assistente está configurado para usar o modelo `gpt-4o`, que é uma variante específica do modelo GPT-4. Esta versão do modelo provavelmente é otimizada ou adaptada para casos de uso específicos, embora mais informações sejam necessárias para explicar completamente suas características.\n",
    "\n",
    "# No geral, este bloco de código configura um assistente personalizado para atuar como um analista financeiro usando o modelo GPT-4o, com ferramentas e recursos específicos disponíveis para realizar tarefas como a análise de dados de vendas de um supermercado a partir de um arquivo CSV."
   ]
  },
  {
   "cell_type": "code",
   "execution_count": 9,
   "id": "9c1f3b70",
   "metadata": {},
   "outputs": [],
   "source": [
    "# assistant = client.beta.assistants.create(\n",
    "#     name=\"Analista Fianceiro Supermercados Asimov\",\n",
    "#     instructions=\"Você é um analista financeiro de um supermercado. Você utiliza os dados .csv relativo às vendas \\\n",
    "#         do supermercado para realizar as suas análises\",\n",
    "#     tools=[{'type': 'code_interpreter'}],\n",
    "#     file_ids=[file.id],\n",
    "#     model='gpt-4-turbo-preview'\n",
    "# )"
   ]
  },
  {
   "attachments": {},
   "cell_type": "markdown",
   "id": "ef03a019",
   "metadata": {},
   "source": [
    "## Cria uma thread"
   ]
  },
  {
   "cell_type": "code",
   "execution_count": 10,
   "id": "6e564600",
   "metadata": {},
   "outputs": [],
   "source": [
    "thread = client.beta.threads.create()"
   ]
  },
  {
   "attachments": {},
   "cell_type": "markdown",
   "id": "2dd2acc5",
   "metadata": {},
   "source": [
    "## Adiciona mensagem a thread criada"
   ]
  },
  {
   "cell_type": "code",
   "execution_count": 14,
   "id": "4ba988f8",
   "metadata": {},
   "outputs": [],
   "source": [
    "pergunta = 'Qual é o rating médio das vendas do nosso supermercado?'\n",
    "# pergunta = 'Gere um gráfico pizza com o percentual de vendas por meio de pagamento'\n",
    "\n",
    "messages = client.beta.threads.messages.create(\n",
    "    thread_id=thread.id,\n",
    "    role='user',\n",
    "    content= pergunta\n",
    ")"
   ]
  },
  {
   "cell_type": "code",
   "execution_count": 15,
   "id": "0c69f3ea",
   "metadata": {},
   "outputs": [
    {
     "data": {
      "text/plain": [
       "'Qual é o rating médio das vendas do nosso supermercado?'"
      ]
     },
     "execution_count": 15,
     "metadata": {},
     "output_type": "execute_result"
    }
   ],
   "source": [
    "pergunta"
   ]
  },
  {
   "attachments": {},
   "cell_type": "markdown",
   "id": "db10a63b",
   "metadata": {},
   "source": [
    "## Roda a thread no assistant"
   ]
  },
  {
   "cell_type": "code",
   "execution_count": 16,
   "id": "ab3e750e",
   "metadata": {},
   "outputs": [],
   "source": [
    "run = client.beta.threads.runs.create(\n",
    "    thread_id=thread.id,\n",
    "    assistant_id=assistant.id,\n",
    "    instructions='O nome do usuário é Sergio.'\n",
    ")"
   ]
  },
  {
   "attachments": {},
   "cell_type": "markdown",
   "id": "7b71e5ba",
   "metadata": {},
   "source": [
    "## Aguarda a thread rodar"
   ]
  },
  {
   "cell_type": "code",
   "execution_count": 17,
   "id": "cc04b39a",
   "metadata": {},
   "outputs": [
    {
     "name": "stdout",
     "output_type": "stream",
     "text": [
      "completed\n"
     ]
    }
   ],
   "source": [
    "import time\n",
    "\n",
    "while run.status in ['queued', 'in_progress', 'cancelling']:\n",
    "    time.sleep(1)\n",
    "    run = client.beta.threads.runs.retrieve(\n",
    "        thread_id=thread.id,\n",
    "        run_id=run.id\n",
    "    )\n",
    "\n",
    "print(run.status)"
   ]
  },
  {
   "attachments": {},
   "cell_type": "markdown",
   "id": "f2b0bf80",
   "metadata": {},
   "source": [
    "## Verifica a resposta"
   ]
  },
  {
   "cell_type": "code",
   "execution_count": 18,
   "id": "6fa5456c",
   "metadata": {},
   "outputs": [
    {
     "name": "stdout",
     "output_type": "stream",
     "text": [
      "SyncCursorPage[Message](data=[Message(id='msg_fhuYkgYxqsoKyU4ez45GknVi', assistant_id='asst_cxtezbL8sqWZVUKq1uDkuiki', attachments=[], completed_at=None, content=[TextContentBlock(text=Text(annotations=[], value='Conforme os dados carregados e analisados, o rating médio das vendas do seu supermercado é aproximadamente **6,97**.\\n\\nCaso precise de mais alguma análise ou informações específicas, sinta-se à vontade para pedir!'), type='text')], created_at=1724165731, incomplete_at=None, incomplete_details=None, metadata={}, object='thread.message', role='assistant', run_id='run_bp3btDUGfo616uxPZRADvEX6', status=None, thread_id='thread_bievOHlPxvQTHUFS7mym0s6v'), Message(id='msg_EsofrVmhzsohxIM3OPRkhmfl', assistant_id=None, attachments=[], completed_at=None, content=[TextContentBlock(text=Text(annotations=[], value='Qual é o rating médio das vendas do nosso supermercado?'), type='text')], created_at=1724165716, incomplete_at=None, incomplete_details=None, metadata={}, object='thread.message', role='user', run_id=None, status=None, thread_id='thread_bievOHlPxvQTHUFS7mym0s6v'), Message(id='msg_jQlMbZMW1iRn9fW65WHF9xGl', assistant_id='asst_cxtezbL8sqWZVUKq1uDkuiki', attachments=[], completed_at=None, content=[TextContentBlock(text=Text(annotations=[], value='O rating médio das vendas do seu supermercado é aproximadamente **6,97**.\\n\\nSe precisar de mais alguma análise ou informações adicionais, estou à disposição!'), type='text')], created_at=1724165528, incomplete_at=None, incomplete_details=None, metadata={}, object='thread.message', role='assistant', run_id='run_UMEYKw7KMaIHztb24bL9sbKs', status=None, thread_id='thread_bievOHlPxvQTHUFS7mym0s6v'), Message(id='msg_hoWVorFlGijyPQTsOuY1T88J', assistant_id='asst_cxtezbL8sqWZVUKq1uDkuiki', attachments=[], completed_at=None, content=[TextContentBlock(text=Text(annotations=[], value='Os dados carregados possuem várias colunas, incluindo uma coluna chamada \"Rating\", que parece conter as notas das vendas.\\n\\nVamos calcular a média dos ratings para responder à sua pergunta.'), type='text')], created_at=1724165522, incomplete_at=None, incomplete_details=None, metadata={}, object='thread.message', role='assistant', run_id='run_UMEYKw7KMaIHztb24bL9sbKs', status=None, thread_id='thread_bievOHlPxvQTHUFS7mym0s6v'), Message(id='msg_iz0zr0KR4FyGGhQqIykuBM4g', assistant_id='asst_cxtezbL8sqWZVUKq1uDkuiki', attachments=[], completed_at=None, content=[TextContentBlock(text=Text(annotations=[], value='Entendido, Sergio. Vamos primeiro examinar o conteúdo do arquivo que você enviou para entender melhor os dados e determinar onde encontrar o rating das vendas. \\n\\nVou carregar o arquivo e exibir uma amostra do seu conteúdo.'), type='text')], created_at=1724165513, incomplete_at=None, incomplete_details=None, metadata={}, object='thread.message', role='assistant', run_id='run_UMEYKw7KMaIHztb24bL9sbKs', status=None, thread_id='thread_bievOHlPxvQTHUFS7mym0s6v'), Message(id='msg_FsEW2NluHQ9uFGHvUvL8GLmt', assistant_id=None, attachments=[], completed_at=None, content=[TextContentBlock(text=Text(annotations=[], value='Qual é o rating médio das vendas do nosso supermercado?'), type='text')], created_at=1724165510, incomplete_at=None, incomplete_details=None, metadata={}, object='thread.message', role='user', run_id=None, status=None, thread_id='thread_bievOHlPxvQTHUFS7mym0s6v')], object='list', first_id='msg_fhuYkgYxqsoKyU4ez45GknVi', last_id='msg_FsEW2NluHQ9uFGHvUvL8GLmt', has_more=False)\n"
     ]
    }
   ],
   "source": [
    "if run.status == 'completed':\n",
    "    messages = client.beta.threads.messages.list(\n",
    "        thread_id=thread.id\n",
    "    )\n",
    "    print(messages)\n",
    "else:\n",
    "    print('Erro', run.status)"
   ]
  },
  {
   "cell_type": "code",
   "execution_count": 13,
   "id": "ad68b412",
   "metadata": {},
   "outputs": [
    {
     "data": {
      "text/plain": [
       "TextContentBlock(text=Text(annotations=[], value='Para gerar um gráfico do tipo pizza (pie chart) mostrando o percentual de vendas por meio de pagamento, precisaremos de alguns detalhes adicionais:\\n\\n1. Os diferentes meios de pagamento que você quer incluir no gráfico.\\n2. O total de vendas (ou porcentagem) para cada meio de pagamento.\\n\\nSe você puder me fornecer essas informações, posso criar o gráfico para você. Se não tiver os dados exatos, também posso criar um exemplo com dados fictícios para ilustrar como seria.'), type='text')"
      ]
     },
     "execution_count": 13,
     "metadata": {},
     "output_type": "execute_result"
    }
   ],
   "source": [
    "messages.data[0].content[0]"
   ]
  },
  {
   "attachments": {},
   "cell_type": "markdown",
   "id": "27e24b15",
   "metadata": {},
   "source": [
    "## Analisando os passos do modelo"
   ]
  },
  {
   "cell_type": "code",
   "execution_count": 14,
   "id": "b5596864",
   "metadata": {},
   "outputs": [],
   "source": [
    "run_steps = client.beta.threads.runs.steps.list(\n",
    "  thread_id=thread.id,\n",
    "  run_id=run.id\n",
    ")"
   ]
  },
  {
   "cell_type": "code",
   "execution_count": 15,
   "id": "7b8a5990",
   "metadata": {},
   "outputs": [
    {
     "name": "stdout",
     "output_type": "stream",
     "text": [
      "======= Step > message_creation\n",
      "Para gerar um gráfico do tipo pizza (pie chart) mostrando o percentual de vendas por meio de pagamento, precisaremos de alguns detalhes adicionais:\n",
      "\n",
      "1. Os diferentes meios de pagamento que você quer incluir no gráfico.\n",
      "2. O total de vendas (ou porcentagem) para cada meio de pagamento.\n",
      "\n",
      "Se você puder me fornecer essas informações, posso criar o gráfico para você. Se não tiver os dados exatos, também posso criar um exemplo com dados fictícios para ilustrar como seria.\n"
     ]
    }
   ],
   "source": [
    "for step in run_steps.data[::-1]:\n",
    "    print('======= Step >', step.step_details.type)\n",
    "    if step.step_details.type == 'tool_calls':\n",
    "        for tool_call in step.step_details.tool_calls:\n",
    "            print('```')\n",
    "            print(tool_call.code_interpreter.input)\n",
    "            print('```')\n",
    "            if tool_call.code_interpreter.outputs[0].type == 'logs':\n",
    "                print('Result')\n",
    "                print(tool_call.code_interpreter.outputs[0].logs)\n",
    "    if step.step_details.type == 'message_creation':\n",
    "        message = client.beta.threads.messages.retrieve(\n",
    "            thread_id=thread.id,\n",
    "            message_id=step.step_details.message_creation.message_id\n",
    "        )\n",
    "        if message.content[0].type == 'text':\n",
    "            print(message.content[0].text.value)\n",
    "\n",
    "        if message.content[0].type == 'image_file':\n",
    "            file_id = message.content[0].image_file.file_id\n",
    "            image_data = client.files.content(file_id)\n",
    "\n",
    "            with open(f'arquivos/{file_id}.png', 'wb') as file:\n",
    "                file.write(image_data.read())\n",
    "\n",
    "            import matplotlib.pyplot as plt\n",
    "            import matplotlib.image as mpimg\n",
    "\n",
    "            img = mpimg.imread(f'arquivos/{file_id}.png')\n",
    "            fig, ax = plt.subplots()\n",
    "            ax.set_axis_off()\n",
    "            ax.imshow(img)\n",
    "            plt.show()\n",
    "        "
   ]
  },
  {
   "cell_type": "code",
   "execution_count": null,
   "id": "5242944f",
   "metadata": {},
   "outputs": [],
   "source": []
  }
 ],
 "metadata": {
  "kernelspec": {
   "display_name": ".venv",
   "language": "python",
   "name": "python3"
  },
  "language_info": {
   "codemirror_mode": {
    "name": "ipython",
    "version": 3
   },
   "file_extension": ".py",
   "mimetype": "text/x-python",
   "name": "python",
   "nbconvert_exporter": "python",
   "pygments_lexer": "ipython3",
   "version": "3.11.7"
  }
 },
 "nbformat": 4,
 "nbformat_minor": 5
}
