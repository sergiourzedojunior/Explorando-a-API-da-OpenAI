{
 "cells": [
  {
   "cell_type": "code",
   "execution_count": 4,
   "id": "63d7d83b",
   "metadata": {},
   "outputs": [
    {
     "data": {
      "text/html": [
       "<div>\n",
       "<style scoped>\n",
       "    .dataframe tbody tr th:only-of-type {\n",
       "        vertical-align: middle;\n",
       "    }\n",
       "\n",
       "    .dataframe tbody tr th {\n",
       "        vertical-align: top;\n",
       "    }\n",
       "\n",
       "    .dataframe thead th {\n",
       "        text-align: right;\n",
       "    }\n",
       "</style>\n",
       "<table border=\"1\" class=\"dataframe\">\n",
       "  <thead>\n",
       "    <tr style=\"text-align: right;\">\n",
       "      <th></th>\n",
       "      <th>Custo dos Bens e/ou Serviços Vendidos</th>\n",
       "      <th>Lucro/Prejuízo Consolidado do Período</th>\n",
       "      <th>Receita de Venda de Bens e/ou Serviços</th>\n",
       "      <th>Crescimento (%)</th>\n",
       "    </tr>\n",
       "  </thead>\n",
       "  <tbody>\n",
       "    <tr>\n",
       "      <th>0</th>\n",
       "      <td>-2.944570e+08</td>\n",
       "      <td>1.104210e+08</td>\n",
       "      <td>2.530710e+08</td>\n",
       "      <td>NaN</td>\n",
       "    </tr>\n",
       "    <tr>\n",
       "      <th>1</th>\n",
       "      <td>-4.084680e+08</td>\n",
       "      <td>2.416220e+08</td>\n",
       "      <td>3.978710e+08</td>\n",
       "      <td>118.818884</td>\n",
       "    </tr>\n",
       "    <tr>\n",
       "      <th>2</th>\n",
       "      <td>-4.350640e+08</td>\n",
       "      <td>3.062700e+07</td>\n",
       "      <td>5.339220e+08</td>\n",
       "      <td>-87.324416</td>\n",
       "    </tr>\n",
       "    <tr>\n",
       "      <th>3</th>\n",
       "      <td>-5.288090e+08</td>\n",
       "      <td>2.048750e+08</td>\n",
       "      <td>8.489200e+08</td>\n",
       "      <td>568.935906</td>\n",
       "    </tr>\n",
       "    <tr>\n",
       "      <th>4</th>\n",
       "      <td>-9.403790e+08</td>\n",
       "      <td>8.423460e+08</td>\n",
       "      <td>1.644346e+09</td>\n",
       "      <td>311.151190</td>\n",
       "    </tr>\n",
       "    <tr>\n",
       "      <th>5</th>\n",
       "      <td>-1.286926e+09</td>\n",
       "      <td>4.529130e+08</td>\n",
       "      <td>1.904185e+09</td>\n",
       "      <td>-46.231952</td>\n",
       "    </tr>\n",
       "    <tr>\n",
       "      <th>6</th>\n",
       "      <td>-1.883358e+09</td>\n",
       "      <td>1.333046e+09</td>\n",
       "      <td>4.396003e+09</td>\n",
       "      <td>194.327167</td>\n",
       "    </tr>\n",
       "    <tr>\n",
       "      <th>7</th>\n",
       "      <td>-2.106303e+09</td>\n",
       "      <td>3.427072e+09</td>\n",
       "      <td>6.363475e+09</td>\n",
       "      <td>157.085802</td>\n",
       "    </tr>\n",
       "  </tbody>\n",
       "</table>\n",
       "</div>"
      ],
      "text/plain": [
       "   Custo dos Bens e/ou Serviços Vendidos  \\\n",
       "0                          -2.944570e+08   \n",
       "1                          -4.084680e+08   \n",
       "2                          -4.350640e+08   \n",
       "3                          -5.288090e+08   \n",
       "4                          -9.403790e+08   \n",
       "5                          -1.286926e+09   \n",
       "6                          -1.883358e+09   \n",
       "7                          -2.106303e+09   \n",
       "\n",
       "   Lucro/Prejuízo Consolidado do Período  \\\n",
       "0                           1.104210e+08   \n",
       "1                           2.416220e+08   \n",
       "2                           3.062700e+07   \n",
       "3                           2.048750e+08   \n",
       "4                           8.423460e+08   \n",
       "5                           4.529130e+08   \n",
       "6                           1.333046e+09   \n",
       "7                           3.427072e+09   \n",
       "\n",
       "   Receita de Venda de Bens e/ou Serviços  Crescimento (%)  \n",
       "0                            2.530710e+08              NaN  \n",
       "1                            3.978710e+08       118.818884  \n",
       "2                            5.339220e+08       -87.324416  \n",
       "3                            8.489200e+08       568.935906  \n",
       "4                            1.644346e+09       311.151190  \n",
       "5                            1.904185e+09       -46.231952  \n",
       "6                            4.396003e+09       194.327167  \n",
       "7                            6.363475e+09       157.085802  "
      ]
     },
     "execution_count": 4,
     "metadata": {},
     "output_type": "execute_result"
    }
   ],
   "source": [
    "import pandas as pd\n",
    "\n",
    "dataset = pd.read_csv('arquivos/sub_dre_pivot.csv')\n",
    "dataset"
   ]
  },
  {
   "cell_type": "code",
   "execution_count": 5,
   "id": "902143c8",
   "metadata": {},
   "outputs": [
    {
     "data": {
      "text/plain": [
       "np.float64(173.82322580401902)"
      ]
     },
     "execution_count": 5,
     "metadata": {},
     "output_type": "execute_result"
    }
   ],
   "source": [
    "dataset['Crescimento (%)'].mean()"
   ]
  },
  {
   "cell_type": "code",
   "execution_count": 6,
   "id": "b69eea24",
   "metadata": {},
   "outputs": [
    {
     "data": {
      "text/plain": [
       "np.float64(173.82322580401902)"
      ]
     },
     "execution_count": 6,
     "metadata": {},
     "output_type": "execute_result"
    }
   ],
   "source": [
    "dataset['Crescimento (%)'].mean()"
   ]
  },
  {
   "cell_type": "code",
   "execution_count": 7,
   "id": "0b0a7bea",
   "metadata": {},
   "outputs": [],
   "source": [
    "import openai\n",
    "from dotenv import load_dotenv, find_dotenv\n",
    "\n",
    "_ = load_dotenv(find_dotenv())\n",
    "\n",
    "client = openai.Client()"
   ]
  },
  {
   "attachments": {},
   "cell_type": "markdown",
   "id": "d748127d",
   "metadata": {},
   "source": [
    "## Cria o assistant"
   ]
  },
  {
   "cell_type": "code",
   "execution_count": 8,
   "id": "b8385a71",
   "metadata": {},
   "outputs": [],
   "source": [
    "file = client.files.create(\n",
    "    file=open('arquivos/sub_dre_pivot.csv', 'rb'),\n",
    "    purpose='assistants'\n",
    ")"
   ]
  },
  {
   "cell_type": "code",
   "execution_count": 9,
   "id": "e072cb30",
   "metadata": {},
   "outputs": [],
   "source": [
    "# file.id"
   ]
  },
  {
   "cell_type": "code",
   "execution_count": 10,
   "id": "c8cc75ca",
   "metadata": {},
   "outputs": [],
   "source": [
    "assistant = client.beta.assistants.create(\n",
    "    name=\"Analista Fianceiro\",\n",
    "    instructions=\"Você é um analista financeiro de mercado de ações. Você utiliza os dados .csv relativo ao DRE e Patrimonio liquido\\\n",
    "        da supermercado para realizar as suas análises\",\n",
    "    tools=[{'type': 'code_interpreter'}],\n",
    "    tool_resources={'code_interpreter': {'file_ids': [file.id]}},\n",
    "    # model='gpt-4o'\n",
    "    model='gpt-3.5-turbo-0125'\n",
    ")\n",
    "\n",
    "\n",
    "# ```python\n",
    "# assistant = client.beta.assistants.create(\n",
    "# ```\n",
    "# - **Propósito:** Esta linha inicia a criação de um novo assistente usando o método `client.beta.assistants.create`.\n",
    "# - **Explicação:** O objeto `assistant` armazenará a instância do assistente que você está criando. Este é tipicamente o primeiro passo para configurar um assistente personalizado usando uma API.\n",
    "\n",
    "# ```python\n",
    "#     name=\"Analista Fianceiro\",\n",
    "# ```\n",
    "# - **Propósito:** Especifica o nome do assistente.\n",
    "# - **Explicação:** Aqui, você está nomeando o assistente como \"Analista Financeiro\". Este nome é útil para identificar o assistente dentro do seu projeto ou aplicação.\n",
    "\n",
    "# ```python\n",
    "#     instructions=\"Você é um analista financeiro de um supermercado. Você utiliza os dados .csv relativo às vendas \\\n",
    "#         do supermercado para realizar as suas análises\",\n",
    "# ```\n",
    "# - **Propósito:** Fornece instruções para o assistente.\n",
    "# - **Explicação:** Esta string dá contexto e orientação ao assistente sobre como ele deve se comportar. Você está instruindo o assistente a agir como um analista financeiro de um supermercado e a utilizar dados em formato CSV relacionados às vendas para realizar suas análises. A barra invertida (`\\`) no final da linha permite que a string continue na próxima linha sem quebrar o código.\n",
    "\n",
    "# ```python\n",
    "#     tools=[{'type': 'code_interpreter'}],\n",
    "# ```\n",
    "# - **Propósito:** Especifica as ferramentas que o assistente deve ter acesso.\n",
    "# - **Explicação:** Aqui, você está dando ao assistente acesso a uma ferramenta chamada `code_interpreter`. Esta é uma ferramenta especializada que permite ao assistente executar código, tipicamente para realizar análises de dados, cálculos ou outras tarefas programáveis.\n",
    "\n",
    "# ```python\n",
    "#     tool_resources={'code_interpreter': {'file_ids': [file.id]}},\n",
    "# ```\n",
    "# - **Propósito:** Vincula recursos (como arquivos) às ferramentas especificadas.\n",
    "# - **Explicação:** Esta linha está associando um arquivo à ferramenta `code_interpreter`. O parâmetro `file_ids` contém uma lista de IDs de arquivos que o interpretador de código pode usar. O `file.id` provavelmente é o ID do arquivo CSV que você carregou ou criou anteriormente. Isso permite que o interpretador de código acesse os dados nesse arquivo durante as operações do assistente.\n",
    "\n",
    "# ```python\n",
    "#     model='gpt-4o'\n",
    "# ```\n",
    "# - **Propósito:** Especifica o modelo que o assistente usará.\n",
    "# - **Explicação:** O assistente está configurado para usar o modelo `gpt-4o`, que é uma variante específica do modelo GPT-4. Esta versão do modelo provavelmente é otimizada ou adaptada para casos de uso específicos, embora mais informações sejam necessárias para explicar completamente suas características.\n",
    "\n",
    "# No geral, este bloco de código configura um assistente personalizado para atuar como um analista financeiro usando o modelo GPT-4o, com ferramentas e recursos específicos disponíveis para realizar tarefas como a análise de dados de vendas de um supermercado a partir de um arquivo CSV."
   ]
  },
  {
   "cell_type": "code",
   "execution_count": 11,
   "id": "9c1f3b70",
   "metadata": {},
   "outputs": [],
   "source": [
    "# assistant = client.beta.assistants.create(\n",
    "#     name=\"Analista Fianceiro Supermercados Asimov\",\n",
    "#     instructions=\"Você é um analista financeiro de um supermercado. Você utiliza os dados .csv relativo às vendas \\\n",
    "#         do supermercado para realizar as suas análises\",\n",
    "#     tools=[{'type': 'code_interpreter'}],\n",
    "#     file_ids=[file.id],\n",
    "#     model='gpt-4-turbo-preview'\n",
    "# )"
   ]
  },
  {
   "attachments": {},
   "cell_type": "markdown",
   "id": "ef03a019",
   "metadata": {},
   "source": [
    "## Cria uma thread"
   ]
  },
  {
   "cell_type": "code",
   "execution_count": 12,
   "id": "6e564600",
   "metadata": {},
   "outputs": [],
   "source": [
    "thread = client.beta.threads.create()"
   ]
  },
  {
   "attachments": {},
   "cell_type": "markdown",
   "id": "2dd2acc5",
   "metadata": {},
   "source": [
    "## Adiciona mensagem a thread criada"
   ]
  },
  {
   "cell_type": "code",
   "execution_count": 13,
   "id": "4ba988f8",
   "metadata": {},
   "outputs": [],
   "source": [
    "pergunta = 'Qual é o Crescimento (%) médio da prio?'\n",
    "# pergunta = 'Gere um gráfico de pizza com o Lucro/Prejuízo Consolidado dos Períodos'\n",
    "\n",
    "messages = client.beta.threads.messages.create(\n",
    "    thread_id=thread.id,\n",
    "    role='user',\n",
    "    content= pergunta\n",
    ")"
   ]
  },
  {
   "cell_type": "code",
   "execution_count": 14,
   "id": "0c69f3ea",
   "metadata": {},
   "outputs": [
    {
     "data": {
      "text/plain": [
       "'Qual é o Crescimento (%) médio da prio?'"
      ]
     },
     "execution_count": 14,
     "metadata": {},
     "output_type": "execute_result"
    }
   ],
   "source": [
    "pergunta"
   ]
  },
  {
   "attachments": {},
   "cell_type": "markdown",
   "id": "db10a63b",
   "metadata": {},
   "source": [
    "## Roda a thread no assistant"
   ]
  },
  {
   "cell_type": "code",
   "execution_count": 15,
   "id": "ab3e750e",
   "metadata": {},
   "outputs": [],
   "source": [
    "run = client.beta.threads.runs.create(\n",
    "    thread_id=thread.id,\n",
    "    assistant_id=assistant.id,\n",
    "    instructions='O nome do usuário é Sergio.'\n",
    ")"
   ]
  },
  {
   "attachments": {},
   "cell_type": "markdown",
   "id": "7b71e5ba",
   "metadata": {},
   "source": [
    "## Aguarda a thread rodar"
   ]
  },
  {
   "cell_type": "code",
   "execution_count": 16,
   "id": "cc04b39a",
   "metadata": {},
   "outputs": [
    {
     "name": "stdout",
     "output_type": "stream",
     "text": [
      "completed\n"
     ]
    }
   ],
   "source": [
    "import time\n",
    "\n",
    "while run.status in ['queued', 'in_progress', 'cancelling']:\n",
    "    time.sleep(1)\n",
    "    run = client.beta.threads.runs.retrieve(\n",
    "        thread_id=thread.id,\n",
    "        run_id=run.id\n",
    "    )\n",
    "\n",
    "print(run.status)"
   ]
  },
  {
   "attachments": {},
   "cell_type": "markdown",
   "id": "f2b0bf80",
   "metadata": {},
   "source": [
    "## Verifica a resposta"
   ]
  },
  {
   "cell_type": "code",
   "execution_count": 17,
   "id": "6fa5456c",
   "metadata": {},
   "outputs": [
    {
     "name": "stdout",
     "output_type": "stream",
     "text": [
      "SyncCursorPage[Message](data=[Message(id='msg_GdO3gYW07Hhy8L51hcCmHp9V', assistant_id='asst_9Y6rAzmQE51qnAjm56A7OPMr', attachments=[], completed_at=None, content=[TextContentBlock(text=Text(annotations=[], value='O crescimento médio da Receita de Venda de Bens e/ou Serviços da Prio é de aproximadamente 173.82%. Se precisar de mais alguma informação ou análise, por favor me avise!'), type='text')], created_at=1724248965, incomplete_at=None, incomplete_details=None, metadata={}, object='thread.message', role='assistant', run_id='run_7OyKDUTAhitjCvm9rx0jioz8', status=None, thread_id='thread_6BQjgrZxQNBtEn5gOtqhzolV'), Message(id='msg_PG9zWBCOc68G8CrqubCb15fw', assistant_id='asst_9Y6rAzmQE51qnAjm56A7OPMr', attachments=[], completed_at=None, content=[TextContentBlock(text=Text(annotations=[], value='Os dados contêm diversas colunas, incluindo \"Receita de Venda de Bens e/ou Serviços\" e \"Crescimento (%)\". Vou calcular o crescimento médio da receita de vendas da prio. Para fazer isso, primeiro vou filtrar os dados relevantes e então calcular o crescimento médio. Vamos fazer isso!'), type='text')], created_at=1724248961, incomplete_at=None, incomplete_details=None, metadata={}, object='thread.message', role='assistant', run_id='run_7OyKDUTAhitjCvm9rx0jioz8', status=None, thread_id='thread_6BQjgrZxQNBtEn5gOtqhzolV'), Message(id='msg_WfRuu6XcGeIYoVC1aRRAgSFg', assistant_id='asst_9Y6rAzmQE51qnAjm56A7OPMr', attachments=[], completed_at=None, content=[TextContentBlock(text=Text(annotations=[], value='Para calcular o crescimento médio da produção da prio, precisaremos primeiro analisar os dados contidos no arquivo que você enviou. Vou começar carregando o arquivo e verificando como os dados estão estruturados.'), type='text')], created_at=1724248956, incomplete_at=None, incomplete_details=None, metadata={}, object='thread.message', role='assistant', run_id='run_7OyKDUTAhitjCvm9rx0jioz8', status=None, thread_id='thread_6BQjgrZxQNBtEn5gOtqhzolV'), Message(id='msg_lgJFGteEA7vpP4qmKoCijHVt', assistant_id=None, attachments=[], completed_at=None, content=[TextContentBlock(text=Text(annotations=[], value='Qual é o Crescimento (%) médio da prio?'), type='text')], created_at=1724248954, incomplete_at=None, incomplete_details=None, metadata={}, object='thread.message', role='user', run_id=None, status=None, thread_id='thread_6BQjgrZxQNBtEn5gOtqhzolV')], object='list', first_id='msg_GdO3gYW07Hhy8L51hcCmHp9V', last_id='msg_lgJFGteEA7vpP4qmKoCijHVt', has_more=False)\n"
     ]
    }
   ],
   "source": [
    "if run.status == 'completed':\n",
    "    messages = client.beta.threads.messages.list(\n",
    "        thread_id=thread.id\n",
    "    )\n",
    "    print(messages)\n",
    "else:\n",
    "    print('Erro', run.status)"
   ]
  },
  {
   "cell_type": "code",
   "execution_count": 18,
   "id": "ad68b412",
   "metadata": {},
   "outputs": [
    {
     "name": "stdout",
     "output_type": "stream",
     "text": [
      "TextContentBlock(text=Text(annotations=[], value='O crescimento médio da Receita de Venda de Bens e/ou Serviços da Prio é de aproximadamente 173.82%. Se precisar de mais alguma informação ou análise, por favor me avise!'), type='text')\n"
     ]
    }
   ],
   "source": [
    "print(messages.data[0].content[0])"
   ]
  },
  {
   "cell_type": "code",
   "execution_count": 19,
   "id": "d6851966",
   "metadata": {},
   "outputs": [
    {
     "name": "stdout",
     "output_type": "stream",
     "text": [
      "Text(annotations=[], value='O crescimento médio da Receita de Venda de Bens e/ou Serviços da Prio é de aproximadamente 173.82%. Se precisar de mais alguma informação ou análise, por favor me avise!')\n"
     ]
    }
   ],
   "source": [
    "print(messages.data[0].content[0].text)"
   ]
  },
  {
   "cell_type": "markdown",
   "id": "15c5af6d",
   "metadata": {},
   "source": [
    "# grafico"
   ]
  },
  {
   "cell_type": "code",
   "execution_count": 20,
   "id": "0332c25a",
   "metadata": {},
   "outputs": [
    {
     "name": "stdout",
     "output_type": "stream",
     "text": [
      "completed\n"
     ]
    }
   ],
   "source": [
    "# grafico\n",
    "\n",
    "pergunta = 'Gere um gráfico de pizza com o Lucro/Prejuízo Consolidado dos Períodos onde o index 0 é o ano de 2016 e o index 1 é o ano de 2017 e assim em diante e faça um comentário sobre o ano mais representativo quando se olha o lucro do período todo'\n",
    "\n",
    "messages = client.beta.threads.messages.create(\n",
    "    thread_id=thread.id,\n",
    "    role='user',\n",
    "    content= pergunta\n",
    ")\n",
    "\n",
    "pergunta\n",
    "run = client.beta.threads.runs.create(\n",
    "    thread_id=thread.id,\n",
    "    assistant_id=assistant.id,\n",
    "    instructions='O nome do usuário é Sergio.'\n",
    ")\n",
    "import time\n",
    "\n",
    "while run.status in ['queued', 'in_progress', 'cancelling']:\n",
    "    time.sleep(1)\n",
    "    run = client.beta.threads.runs.retrieve(\n",
    "        thread_id=thread.id,\n",
    "        run_id=run.id\n",
    "    )\n",
    "\n",
    "print(run.status)"
   ]
  },
  {
   "attachments": {},
   "cell_type": "markdown",
   "id": "27e24b15",
   "metadata": {},
   "source": [
    "## Analisando os passos do modelo"
   ]
  },
  {
   "cell_type": "code",
   "execution_count": 21,
   "id": "b5596864",
   "metadata": {},
   "outputs": [],
   "source": [
    "run_steps = client.beta.threads.runs.steps.list(\n",
    "  thread_id=thread.id,\n",
    "  run_id=run.id\n",
    ")"
   ]
  },
  {
   "cell_type": "code",
   "execution_count": 23,
   "id": "f1a7f4c7",
   "metadata": {},
   "outputs": [
    {
     "name": "stdout",
     "output_type": "stream",
     "text": [
      "======= Step > message_creation\n",
      "Para criar um gráfico de pizza com o Lucro/Prejuízo Consolidado dos Períodos, considerando o ano de 2016 como o index 0, o ano de 2017 como o index 1 e assim por diante, vou realizar os seguintes passos:\n",
      "\n",
      "1. Filtrar os dados relevantes.\n",
      "2. Criar um gráfico de pizza com os valores do Lucro/Prejuízo Consolidado dos Períodos.\n",
      "3. Fazer um comentário sobre o ano mais representativo considerando o lucro do período todo.\n",
      "\n",
      "Vamos começar gerando o gráfico de pizza com os dados fornecidos.\n",
      "======= Step > tool_calls\n",
      "```\n",
      "import matplotlib.pyplot as plt\n",
      "\n",
      "# Filtrar os dados relevantes\n",
      "profit_loss = data['Lucro/Prejuízo Consolidado do Período']\n",
      "\n",
      "# Criar um gráfico de pizza com o Lucro/Prejuízo Consolidado dos Períodos\n",
      "fig, ax = plt.subplots()\n",
      "ax.pie(profit_loss, labels=data.index, autopct='%1.1f%%', startangle=90)\n",
      "ax.axis('equal')  # Equal aspect ratio ensures that pie is drawn as a circle\n",
      "\n",
      "plt.title('Lucro/Prejuízo Consolidado dos Períodos')\n",
      "plt.show()\n",
      "```\n",
      "======= Step > message_creation\n"
     ]
    },
    {
     "data": {
      "image/png": "[encoded data removed]",
      "text/plain": [
       "<Figure size 640x480 with 1 Axes>"
      ]
     },
     "metadata": {},
     "output_type": "display_data"
    },
    {
     "name": "stdout",
     "output_type": "stream",
     "text": [
      "======= Step > tool_calls\n",
      "```\n",
      "# Calcular o lucro/prejuízo total de cada ano\n",
      "total_profit_loss = data['Lucro/Prejuízo Consolidado do Período'].sum()\n",
      "\n",
      "# Identificar o ano mais representativo considerando o lucro/prejuízo total\n",
      "most_representative_year = data['Lucro/Prejuízo Consolidado do Período'].idxmax()\n",
      "\n",
      "most_representative_year, total_profit_loss.loc[most_representative_year]\n",
      "```\n",
      "======= Step > message_creation\n",
      "Parece que houve um erro ao tentar recuperar o lucro/prejuízo do ano mais representativo. Vou corrigir esse erro e recalcular a informação. Vamos lá!\n",
      "======= Step > tool_calls\n",
      "```\n",
      "# Identificar o ano mais representativo considerando o lucro/prejuízo total\n",
      "most_representative_year = data['Lucro/Prejuízo Consolidado do Período'].idxmax()\n",
      "\n",
      "most_representative_year, total_profit_loss\n",
      "```\n",
      "======= Step > message_creation\n",
      "O ano mais representativo, considerando o lucro/prejuízo total, é o index 7. No entanto, ao verificar os valores totais, observamos que o lucro/prejuízo total de todos os anos é de 6.642.922.000,00. Portanto, o ano mais representativo é o index 7, com um lucro/prejuízo total de 6.642.922.000,00. Isso significa que esse ano teve o maior impacto no lucro/prejuízo consolidado do período todo.\n",
      "\n",
      "Se precisar de mais alguma análise ou informação, por favor me avise!\n"
     ]
    }
   ],
   "source": [
    "for step in run_steps.data[::-1]:\n",
    "    print('======= Step >', step.step_details.type)\n",
    "    if step.step_details.type == 'tool_calls':\n",
    "        for tool_call in step.step_details.tool_calls:\n",
    "            print('```')\n",
    "            print(tool_call.code_interpreter.input)\n",
    "            print('```')\n",
    "            if tool_call.code_interpreter.outputs and tool_call.code_interpreter.outputs[0].type == 'logs':\n",
    "                print('Result')\n",
    "                print(tool_call.code_interpreter.outputs[0].logs)\n",
    "    if step.step_details.type == 'message_creation':\n",
    "        message = client.beta.threads.messages.retrieve(\n",
    "            thread_id=thread.id,\n",
    "            message_id=step.step_details.message_creation.message_id\n",
    "        )\n",
    "        if message.content[0].type == 'text':\n",
    "            print(message.content[0].text.value)\n",
    "\n",
    "        if message.content[0].type == 'image_file':\n",
    "            file_id = message.content[0].image_file.file_id\n",
    "            image_data = client.files.content(file_id)\n",
    "\n",
    "            with open(f'arquivos/{file_id}.png', 'wb') as file:\n",
    "                file.write(image_data.read())\n",
    "\n",
    "            import matplotlib.pyplot as plt\n",
    "            import matplotlib.image as mpimg\n",
    "\n",
    "            img = mpimg.imread(f'arquivos/{file_id}.png')\n",
    "            fig, ax = plt.subplots()\n",
    "            ax.set_axis_off()\n",
    "            ax.imshow(img)\n",
    "            plt.show()"
   ]
  },
  {
   "cell_type": "code",
   "execution_count": null,
   "id": "5242944f",
   "metadata": {},
   "outputs": [],
   "source": []
  }
 ],
 "metadata": {
  "kernelspec": {
   "display_name": ".venv",
   "language": "python",
   "name": "python3"
  },
  "language_info": {
   "codemirror_mode": {
    "name": "ipython",
    "version": 3
   },
   "file_extension": ".py",
   "mimetype": "text/x-python",
   "name": "python",
   "nbconvert_exporter": "python",
   "pygments_lexer": "ipython3",
   "version": "3.10.12"
  }
 },
 "nbformat": 4,
 "nbformat_minor": 5
}
