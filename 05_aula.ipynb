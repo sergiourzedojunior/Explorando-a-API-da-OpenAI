{
 "cells": [
  {
   "cell_type": "code",
   "execution_count": 1,
   "metadata": {},
   "outputs": [],
   "source": [
    "import openai\n",
    "from dotenv import load_dotenv, find_dotenv\n",
    "\n",
    "_ = load_dotenv(find_dotenv())"
   ]
  },
  {
   "cell_type": "code",
   "execution_count": 2,
   "id": "9426fcfa",
   "metadata": {},
   "outputs": [],
   "source": [
    "client = openai.Client()"
   ]
  },
  {
   "cell_type": "code",
   "execution_count": 3,
   "id": "8cc401a1",
   "metadata": {},
   "outputs": [],
   "source": [
    "mensagens = [{'role': 'user', 'content': 'O que é uma maçã em 5 palavras?'}]\n",
    "\n",
    "resposta = client.chat.completions.create(\n",
    "    messages=mensagens,\n",
    "    model='gpt-3.5-turbo-0125',\n",
    "    max_tokens=1000,\n",
    "    temperature=0\n",
    ")\n"
   ]
  },
  {
   "cell_type": "code",
   "execution_count": 4,
   "id": "4f22b3f1",
   "metadata": {},
   "outputs": [
    {
     "name": "stdout",
     "output_type": "stream",
     "text": [
      "Fruta redonda e saborosa.\n"
     ]
    }
   ],
   "source": [
    "print(resposta.choices[0].message.content)"
   ]
  },
  {
   "cell_type": "code",
   "execution_count": 5,
   "id": "92a4cb52",
   "metadata": {},
   "outputs": [],
   "source": [
    "mensagens.append({'role': 'user', 'content': 'E qual é a sua cor?'})"
   ]
  },
  {
   "cell_type": "code",
   "execution_count": 6,
   "id": "61194ce0",
   "metadata": {},
   "outputs": [
    {
     "data": {
      "text/plain": [
       "[{'role': 'user', 'content': 'O que é uma maçã em 5 palavras?'},\n",
       " {'role': 'user', 'content': 'E qual é a sua cor?'}]"
      ]
     },
     "execution_count": 6,
     "metadata": {},
     "output_type": "execute_result"
    }
   ],
   "source": [
    "mensagens"
   ]
  },
  {
   "cell_type": "code",
   "execution_count": 7,
   "id": "e253ddcd",
   "metadata": {},
   "outputs": [],
   "source": [
    "resposta = client.chat.completions.create(\n",
    "    messages=mensagens,\n",
    "    model='gpt-3.5-turbo-0125',\n",
    "    max_tokens=1000,\n",
    "    temperature=0\n",
    ")"
   ]
  },
  {
   "cell_type": "code",
   "execution_count": 8,
   "id": "0d7078f0",
   "metadata": {},
   "outputs": [
    {
     "name": "stdout",
     "output_type": "stream",
     "text": [
      "Vermelha, suculenta, doce, crocante, nutritiva.\n"
     ]
    }
   ],
   "source": [
    "print(resposta.choices[0].message.content)"
   ]
  },
  {
   "cell_type": "markdown",
   "id": "90aa343e",
   "metadata": {},
   "source": [
    "## Adicionando a uma função"
   ]
  },
  {
   "cell_type": "code",
   "execution_count": null,
   "id": "26ae7278",
   "metadata": {},
   "outputs": [],
   "source": [
    "def geracao_texto(mensagens, model='gpt-3.5-turbo-0125', max_tokens=1000, temperature=0):\n",
    "    resposta = client.chat.completions.create(\n",
    "        messages=mensagens,\n",
    "        model=model,\n",
    "        max_tokens=max_tokens,\n",
    "        temperature=temperature\n",
    "    )\n",
    "    print(resposta.choices[0].message.content)\n",
    "    mensagens.append(resposta.choices[0].message.model_dump(exclude_none=True))\n",
    "    return mensagens"
   ]
  },
  {
   "cell_type": "code",
   "execution_count": null,
   "id": "dcf1de4e",
   "metadata": {},
   "outputs": [],
   "source": [
    "mensagens = [{'role': 'user', 'content': 'O que é uma maçã em 5 palavras?'}]\n",
    "mensagens = geracao_texto(mensagens)"
   ]
  },
  {
   "cell_type": "code",
   "execution_count": null,
   "id": "45edaef2",
   "metadata": {},
   "outputs": [],
   "source": [
    "mensagens.append({'role': 'user', 'content': 'E qual é a sua cor?'})\n",
    "mensagens = geracao_texto(mensagens)"
   ]
  },
  {
   "cell_type": "markdown",
   "id": "2429e591",
   "metadata": {},
   "source": [
    "## Explorando classe de resposta"
   ]
  },
  {
   "cell_type": "code",
   "execution_count": null,
   "id": "84705c1c",
   "metadata": {},
   "outputs": [],
   "source": [
    "\n",
    "mensagens = [{'role': 'user', 'content': 'O que é uma maçã em 5 palavras?'}]\n",
    "resposta = client.chat.completions.create(\n",
    "    messages=mensagens,\n",
    "    model='gpt-3.5-turbo-0125',\n",
    "    max_tokens=1000,\n",
    "    temperature=0\n",
    ")"
   ]
  },
  {
   "cell_type": "code",
   "execution_count": null,
   "id": "b9e9136a",
   "metadata": {},
   "outputs": [],
   "source": [
    "resposta.usage"
   ]
  },
  {
   "cell_type": "code",
   "execution_count": null,
   "id": "2702ced8",
   "metadata": {},
   "outputs": [],
   "source": [
    "resposta.choices[0].message"
   ]
  },
  {
   "cell_type": "code",
   "execution_count": null,
   "id": "bfff74f6",
   "metadata": {},
   "outputs": [],
   "source": [
    "resposta.choices[0].message.model_dump(exclude_none=True)"
   ]
  },
  {
   "cell_type": "markdown",
   "id": "f498b532",
   "metadata": {},
   "source": [
    "## Explorando max_tokens e temperature"
   ]
  },
  {
   "cell_type": "code",
   "execution_count": null,
   "id": "d5f8b3cf",
   "metadata": {},
   "outputs": [],
   "source": [
    "mensagens = [{'role': 'user', 'content': 'O que é uma maçã em 5 palavras?'}]\n",
    "mensagens = geracao_texto(mensagens, max_tokens=3)"
   ]
  },
  {
   "cell_type": "code",
   "execution_count": null,
   "id": "4188ab1c",
   "metadata": {},
   "outputs": [],
   "source": [
    "mensagens = [{'role': 'user', 'content': 'O que é uma maçã?'}]\n",
    "mensagens = geracao_texto(mensagens, temperature=2)"
   ]
  },
  {
   "cell_type": "code",
   "execution_count": null,
   "id": "0a48fef1",
   "metadata": {},
   "outputs": [],
   "source": []
  }
 ],
 "metadata": {
  "kernelspec": {
   "display_name": ".venv",
   "language": "python",
   "name": "python3"
  },
  "language_info": {
   "codemirror_mode": {
    "name": "ipython",
    "version": 3
   },
   "file_extension": ".py",
   "mimetype": "text/x-python",
   "name": "python",
   "nbconvert_exporter": "python",
   "pygments_lexer": "ipython3",
   "version": "3.11.7"
  }
 },
 "nbformat": 4,
 "nbformat_minor": 5
}
