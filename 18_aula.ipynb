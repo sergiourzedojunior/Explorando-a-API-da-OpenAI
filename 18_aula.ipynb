{
 "cells": [
  {
   "cell_type": "code",
   "execution_count": 2,
   "id": "5242944f",
   "metadata": {},
   "outputs": [],
   "source": [
    "import openai\n",
    "from dotenv import load_dotenv, find_dotenv\n",
    "\n",
    "_ = load_dotenv(find_dotenv())\n",
    "\n",
    "client = openai.Client()"
   ]
  },
  {
   "cell_type": "code",
   "execution_count": 4,
   "id": "90ec733e",
   "metadata": {},
   "outputs": [],
   "source": [
    "arquivo = 'arquivos/audio/fala.mp3'\n",
    "\n",
    "texto = '''\n",
    "Python é uma linguagem de programação de alto nível, interpretada de script, imperativa, orientada a objetos, \n",
    "funcional, de tipagem dinâmica e forte. Foi lançada por Guido van Rossum em 1991. Atualmente, possui um modelo \n",
    "de desenvolvimento comunitário, aberto e gerenciado pela organização sem fins lucrativos Python Software Foundation. \n",
    "Apesar de várias partes da linguagem possuírem padrões e especificações formais, a linguagem, como um todo, não é \n",
    "formalmente especificada. O padrão na pratica é a implementação CPython.\n",
    "\n",
    "A linguagem foi projetada com a filosofia de enfatizar a importância do esforço do programador sobre o esforço \n",
    "computacional. Prioriza a legibilidade do código sobre a velocidade ou expressividade. Combina uma sintaxe concisa \n",
    "e clara com os recursos poderosos de sua biblioteca padrão e por módulos e frameworks desenvolvidos por terceiros.\n",
    "'''\n",
    "\n",
    "resposta = client.audio.speech.create(\n",
    "    model='tts-1',\n",
    "    voice='onyx',\n",
    "    input=texto\n",
    ")\n",
    "resposta.write_to_file(arquivo)"
   ]
  },
  {
   "cell_type": "code",
   "execution_count": 5,
   "id": "1c2670a9",
   "metadata": {},
   "outputs": [],
   "source": [
    "arquivo = 'arquivos/audio/fala.mp3'\n",
    "\n",
    "with client.audio.speech.with_streaming_response.create(\n",
    "    model='tts-1',\n",
    "    voice='onyx',\n",
    "    input=texto\n",
    ") as resposta:\n",
    "    resposta.stream_to_file(arquivo)"
   ]
  },
  {
   "cell_type": "code",
   "execution_count": null,
   "id": "d1ea0e64",
   "metadata": {},
   "outputs": [],
   "source": []
  }
 ],
 "metadata": {
  "kernelspec": {
   "display_name": ".venv",
   "language": "python",
   "name": "python3"
  },
  "language_info": {
   "codemirror_mode": {
    "name": "ipython",
    "version": 3
   },
   "file_extension": ".py",
   "mimetype": "text/x-python",
   "name": "python",
   "nbconvert_exporter": "python",
   "pygments_lexer": "ipython3",
   "version": "3.11.4"
  }
 },
 "nbformat": 4,
 "nbformat_minor": 5
}
