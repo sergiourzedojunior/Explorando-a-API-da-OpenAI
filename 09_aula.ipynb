{
 "cells": [
  {
   "cell_type": "code",
   "execution_count": 7,
   "id": "0b0a7bea",
   "metadata": {},
   "outputs": [],
   "source": [
    "import json\n",
    "import yfinance as yf\n",
    "\n",
    "import openai\n",
    "from dotenv import load_dotenv, find_dotenv\n",
    "\n",
    "_ = load_dotenv(find_dotenv())\n",
    "\n",
    "client = openai.Client()\n",
    "\n",
    "\n",
    "def retorna_cotacao_acao_historica(\n",
    "        ticker,\n",
    "        periodo='1mo'\n",
    "):\n",
    "    ticker_obj = yf.Ticker(f'{ticker}.SA')\n",
    "    hist = ticker_obj.history(period=periodo)['Close']\n",
    "    hist.index = hist.index.strftime('%Y-%m-%d')\n",
    "    hist = round(hist, 2)\n",
    "    if len(hist) > 30:\n",
    "        slice_size = int(len(hist) / 30)\n",
    "        hist = hist.iloc[::-slice_size][::-1]\n",
    "    return hist.to_json()\n",
    "\n",
    "\n",
    "tools = [\n",
    "    {\n",
    "        'type': 'function',\n",
    "        'function': {\n",
    "            'name': 'retorna_cotacao_acao_historica',\n",
    "            'description': 'Retorna a cotação diária histórica para uma ação da bovespa',\n",
    "            'parameters': {\n",
    "                'type': 'object',\n",
    "                'properties': {\n",
    "                    'ticker': {\n",
    "                        'type': 'string',\n",
    "                        'description': 'O ticker da ação. Exemplo: \"ABEV3\" para ambev, \"PETR4\" para petrobras, \"PRIO3\" para prio etc'\n",
    "                    },\n",
    "                    'periodo': {\n",
    "                        'type': 'string',\n",
    "                        'description': 'O período que será retornado de dados históriocos \\\n",
    "                                        sendo \"1mo\" equivalente a um mês de dados, \"1d\" a \\\n",
    "                                        1 dia e \"1y\" a 1 ano',\n",
    "                        'enum': [\"1d\",\"5d\",\"1mo\",\"6mo\",\"1y\",\"5y\",\"10y\",\"ytd\",\"max\"]\n",
    "                    }\n",
    "                }\n",
    "            }\n",
    "        }\n",
    "    }\n",
    "\n",
    "]\n",
    "\n",
    "funcoes_disponiveis = {'retorna_cotacao_acao_historica': retorna_cotacao_acao_historica}\n",
    "\n",
    "\n",
    "mensagens = [{'role': 'user', 'content': 'Qual é a cotação da prio agora'}]\n",
    "\n",
    "resposta = client.chat.completions.create(\n",
    "    messages=mensagens,\n",
    "    model='gpt-3.5-turbo-0125',\n",
    "    tools=tools,\n",
    "    tool_choice='auto'\n",
    ")\n",
    "\n",
    "\n",
    "\n",
    "# # Importa o módulo json para trabalhar com formatação e manipulação de objetos JSON.\n",
    "# import json\n",
    "\n",
    "# # Importa o módulo yfinance que permite interagir com dados financeiros do Yahoo Finance.\n",
    "# import yfinance as yf\n",
    "\n",
    "# # Importa o módulo openai para interagir com a API do OpenAI.\n",
    "# import openai\n",
    "\n",
    "# # Importa a função load_dotenv e find_dotenv do módulo dotenv para carregar variáveis de ambiente de um arquivo .env.\n",
    "# from dotenv import load_dotenv, find_dotenv\n",
    "\n",
    "# # Carrega as variáveis de ambiente do arquivo .env, se encontrado.\n",
    "# _ = load_dotenv(find_dotenv())\n",
    "\n",
    "# # Cria uma instância do cliente OpenAI para fazer chamadas à API.\n",
    "# client = openai.Client()\n",
    "\n",
    "# # Define uma função para retornar a cotação histórica de uma ação da Bovespa.\n",
    "# def retorna_cotacao_acao_historica(\n",
    "#         ticker,            # O código da ação (ticker) que deseja consultar, por exemplo, \"PETR4\".\n",
    "#         periodo='1mo'      # O período para o qual os dados históricos serão retornados. O padrão é '1mo' (um mês).\n",
    "# ):\n",
    "#     # Cria um objeto Ticker usando o código da ação (ticker) com sufixo '.SA' para indicar ações brasileiras.\n",
    "#     ticker_obj = yf.Ticker(f'{ticker}.SA')\n",
    "\n",
    "#     # Obtém o histórico de preços de fechamento ('Close') para o período especificado.\n",
    "#     hist = ticker_obj.history(period=periodo)['Close']\n",
    "\n",
    "#     # Converte os índices da série temporal para o formato de data 'YYYY-MM-DD'.\n",
    "#     hist.index = hist.index.strftime('%Y-%m-%d')\n",
    "\n",
    "#     # Arredonda os valores das cotações para duas casas decimais.\n",
    "#     hist = round(hist, 2)\n",
    "\n",
    "#     # Se o histórico tiver mais de 30 registros, faz um recorte dos dados para retornar apenas 30 entradas.\n",
    "#     if len(hist) > 30:\n",
    "#         slice_size = int(len(hist) / 30)  # Calcula o tamanho do intervalo para recorte.\n",
    "#         hist = hist.iloc[::-slice_size][::-1]  # Recorta e reordena os dados.\n",
    "\n",
    "#     # Retorna o histórico como uma string JSON.\n",
    "#     return hist.to_json()\n",
    "\n",
    "# # Cria uma lista de ferramentas disponíveis para serem usadas pelo modelo da OpenAI.\n",
    "# tools = [\n",
    "#     {\n",
    "#         'type': 'function',  # Define o tipo de ferramenta como função.\n",
    "#         'function': {\n",
    "#             'name': 'retorna_cotacao_acao_historica',  # Nome da função a ser chamada.\n",
    "#             'description': 'Retorna a cotação diária histórica para uma ação da bovespa',  # Descrição da função.\n",
    "#             'parameters': {\n",
    "#                 'type': 'object',  # Define os parâmetros da função como um objeto JSON.\n",
    "#                 'properties': {\n",
    "#                     'ticker': {\n",
    "#                         'type': 'string',  # Tipo do parâmetro ticker é uma string.\n",
    "#                         'description': 'O ticker da ação. Exemplo: \"ABEV3\" para ambev, \"PETR4\" para petrobras, \"PRIO3\" para prio etc'  # Descrição do parâmetro ticker.\n",
    "#                     },\n",
    "#                     'periodo': {\n",
    "#                         'type': 'string',  # Tipo do parâmetro periodo é uma string.\n",
    "#                         'description': 'O período que será retornado de dados históriocos \\\n",
    "#                                         sendo \"1mo\" equivalente a um mês de dados, \"1d\" a \\\n",
    "#                                         1 dia e \"1y\" a 1 ano',  # Descrição do parâmetro periodo.\n",
    "#                         'enum': [\"1d\",\"5d\",\"1mo\",\"6mo\",\"1y\",\"5y\",\"10y\",\"ytd\",\"max\"]  # Valores permitidos para o parâmetro periodo.\n",
    "#                     }\n",
    "#                 }\n",
    "#             }\n",
    "#         }\n",
    "#     }\n",
    "# ]\n",
    "\n",
    "# # Mapeia as funções disponíveis para serem chamadas pela API do OpenAI.\n",
    "# funcoes_disponiveis = {'retorna_cotacao_acao_historica': retorna_cotacao_acao_historica}\n",
    "\n",
    "# # Define a mensagem inicial que simula um pedido de cotação da ação \"PRIO\".\n",
    "# mensagens = [{'role': 'user', 'content': 'Qual é a cotação da prio agora'}]\n",
    "\n",
    "# # Faz uma chamada à API de chat da OpenAI usando o modelo 'gpt-3.5-turbo-0125'.\n",
    "# # Passa as mensagens, o modelo, as ferramentas disponíveis e define o modo de escolha de ferramentas como 'auto'.\n",
    "# resposta = client.chat.completions.create(\n",
    "#     messages=mensagens,\n",
    "#     model='gpt-3.5-turbo-0125',\n",
    "#     tools=tools,\n",
    "#     tool_choice='auto'\n",
    "# )\n"
   ]
  },
  {
   "cell_type": "code",
   "execution_count": 8,
   "id": "3e66e0c0",
   "metadata": {},
   "outputs": [],
   "source": [
    "tool_calls = resposta.choices[0].message.tool_calls\n",
    "\n",
    "if tool_calls:\n",
    "    mensagens.append(resposta.choices[0].message)\n",
    "    for tool_call in tool_calls:\n",
    "        func_name = tool_call.function.name\n",
    "        function_to_call = funcoes_disponiveis[func_name]\n",
    "        func_args = json.loads(tool_call.function.arguments)\n",
    "        func_return = function_to_call(**func_args)\n",
    "        mensagens.append({\n",
    "            'tool_call_id': tool_call.id,\n",
    "            'role': 'tool',\n",
    "            'name': func_name,\n",
    "            'content': func_return\n",
    "        })\n",
    "    segunda_resposta = client.chat.completions.create(\n",
    "        messages=mensagens,\n",
    "        model='gpt-3.5-turbo-0125',\n",
    "    )\n",
    "    mensagens.append(segunda_resposta.choices[0].message)\n"
   ]
  },
  {
   "cell_type": "code",
   "execution_count": 9,
   "id": "fcdb97f9",
   "metadata": {},
   "outputs": [
    {
     "data": {
      "text/plain": [
       "'A cotação da ação da Prio (PRIO3) agora é de R$ 47,66.'"
      ]
     },
     "execution_count": 9,
     "metadata": {},
     "output_type": "execute_result"
    }
   ],
   "source": [
    "segunda_resposta.choices[0].message.content"
   ]
  },
  {
   "cell_type": "code",
   "execution_count": 10,
   "id": "db12f8d4",
   "metadata": {},
   "outputs": [
    {
     "data": {
      "text/plain": [
       "'{\"2024-08-20\":47.7}'"
      ]
     },
     "execution_count": 10,
     "metadata": {},
     "output_type": "execute_result"
    }
   ],
   "source": [
    "func_name = tool_call.function.name\n",
    "function_to_call = funcoes_disponiveis[func_name]\n",
    "func_args = json.loads(tool_call.function.arguments)\n",
    "func_return = function_to_call(**func_args)\n",
    "\n",
    "\n",
    "func_return"
   ]
  },
  {
   "cell_type": "code",
   "execution_count": 11,
   "id": "441d710a",
   "metadata": {},
   "outputs": [
    {
     "data": {
      "text/plain": [
       "{'ticker': 'PRIO3', 'periodo': '1d'}"
      ]
     },
     "execution_count": 11,
     "metadata": {},
     "output_type": "execute_result"
    }
   ],
   "source": [
    "func_args"
   ]
  },
  {
   "cell_type": "code",
   "execution_count": 12,
   "id": "27dfaf3c",
   "metadata": {},
   "outputs": [
    {
     "data": {
      "text/plain": [
       "ChatCompletionMessageToolCall(id='call_ezlA8dXEDXP8n1KrOuKuA9dO', function=Function(arguments='{\"ticker\":\"PRIO3\",\"periodo\":\"1d\"}', name='retorna_cotacao_acao_historica'), type='function')"
      ]
     },
     "execution_count": 12,
     "metadata": {},
     "output_type": "execute_result"
    }
   ],
   "source": [
    "tool_call"
   ]
  }
 ],
 "metadata": {
  "kernelspec": {
   "display_name": ".venv",
   "language": "python",
   "name": "python3"
  },
  "language_info": {
   "codemirror_mode": {
    "name": "ipython",
    "version": 3
   },
   "file_extension": ".py",
   "mimetype": "text/x-python",
   "name": "python",
   "nbconvert_exporter": "python",
   "pygments_lexer": "ipython3",
   "version": "3.11.7"
  }
 },
 "nbformat": 4,
 "nbformat_minor": 5
}
